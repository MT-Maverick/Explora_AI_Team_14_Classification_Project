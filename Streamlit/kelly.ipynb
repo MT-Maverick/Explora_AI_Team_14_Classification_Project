{
 "cells": [
  {
   "cell_type": "markdown",
   "id": "40d42af3-0d36-4fed-ade8-5c189469bd8b",
   "metadata": {},
   "source": [
    "<h1 style=\"color:black;\">Classification Project: Newspaper Articles</h1>"
   ]
  },
  {
   "cell_type": "markdown",
   "id": "a4d699a7-050f-498c-a58f-8b8917905cf1",
   "metadata": {},
   "source": [
    "<h3 style=\"color:blue;\">PROJECT OVERVIEW</h3>"
   ]
  },
  {
   "cell_type": "markdown",
   "id": "0c22ed09-70b7-47bd-b81d-483344afa3bb",
   "metadata": {},
   "source": [
    ">The key goal of this classification project is for our team to develop machine learning models that can automatically classify newspaper articles. This project is an end-to-end project covering all stages, from loading and preprocessing data to training models, evaluating them, and deploying the solution as a web app using Streamlit."
   ]
  },
  {
   "cell_type": "markdown",
   "id": "a830a160-194a-47a3-b888-e76eda1ee776",
   "metadata": {},
   "source": [
    "<h3 style=\"color:blue;\">IMPORTING PACKAGES</h3>"
   ]
  },
  {
   "cell_type": "markdown",
   "id": "72bc717e-0601-441a-adcd-a96530c25810",
   "metadata": {},
   "source": [
    "> This project will utilise the packages below to efficiently load, clean, analyse and visualise the newspaper article data. The packages are imported and necessary libraries are downloaded below:"
   ]
  },
  {
   "cell_type": "code",
   "execution_count": 20,
   "id": "e73e73b6-d9d1-45a8-9aed-f1908111f145",
   "metadata": {},
   "outputs": [],
   "source": [
    "# Importing Pandas for data manipulation and analysis\n",
    "import pandas as pd\n",
    "\n",
    "# Importing NumPy for numerical operations\n",
    "import numpy as np\n",
    "\n",
    "# Importing Matplotlib for data visualization\n",
    "import matplotlib.pyplot as plt\n",
    "\n",
    "# Importing Seaborn for advanced data visualization\n",
    "import seaborn as sns\n",
    "\n",
    "# Importing IPython.display for displaying rich media in Jupyter Notebooks\n",
    "from IPython.display import display, Image\n",
    "\n",
    "# Importing nltk for tokenization, lemmatization, and text preprocessing\n",
    "import nltk \n",
    "\n",
    "# Importing re for regular expressions to clean and manipulate text\n",
    "import re\n",
    "\n",
    "# Importing string for handling common string operations, such as removing punctuation\n",
    "import string\n",
    "\n",
    "# Importing nltk.corpus to improve text processing\n",
    "from nltk.corpus import  stopwords\n",
    "\n",
    "# Importing nltk.tokenize to split text into words or sentences for NLP tasks\n",
    "from nltk.tokenize import word_tokenize, TreebankWordTokenizer\n",
    "\n",
    "# Importing nltk.stem to converts words to their root forms, improving text understanding\n",
    "from nltk.stem import WordNetLemmatizer\n",
    "\n",
    "# Convert text to numerical vectors\n",
    "from sklearn.feature_extraction.text import TfidfVectorizer \n",
    "\n",
    "# Splitting data\n",
    "from sklearn.model_selection import train_test_split \n"
   ]
  },
  {
   "cell_type": "code",
   "execution_count": 21,
   "id": "344af896-aabd-4703-b9f7-7bcf0793d4b5",
   "metadata": {},
   "outputs": [
    {
     "name": "stderr",
     "output_type": "stream",
     "text": [
      "[nltk_data] Downloading package punkt to\n",
      "[nltk_data]     C:\\Users\\kelly\\AppData\\Roaming\\nltk_data...\n",
      "[nltk_data]   Package punkt is already up-to-date!\n",
      "[nltk_data] Downloading package punkt_tab to\n",
      "[nltk_data]     C:\\Users\\kelly\\AppData\\Roaming\\nltk_data...\n",
      "[nltk_data]   Package punkt_tab is already up-to-date!\n",
      "[nltk_data] Downloading package stopwords to\n",
      "[nltk_data]     C:\\Users\\kelly\\AppData\\Roaming\\nltk_data...\n",
      "[nltk_data]   Package stopwords is already up-to-date!\n",
      "[nltk_data] Downloading package wordnet to\n",
      "[nltk_data]     C:\\Users\\kelly\\AppData\\Roaming\\nltk_data...\n",
      "[nltk_data]   Package wordnet is already up-to-date!\n"
     ]
    },
    {
     "data": {
      "text/plain": [
       "True"
      ]
     },
     "execution_count": 21,
     "metadata": {},
     "output_type": "execute_result"
    }
   ],
   "source": [
    "nltk.download(['punkt','punkt_tab','stopwords','wordnet'])"
   ]
  },
  {
   "cell_type": "markdown",
   "id": "fd9ce86b-af85-49da-847b-af99ed6f0591",
   "metadata": {},
   "source": [
    "<h3 style=\"color:blue;\">DATA LOADING</h3>"
   ]
  },
  {
   "cell_type": "markdown",
   "id": "c086f70a-7ec8-4d82-a919-9e8b5dd101e1",
   "metadata": {},
   "source": [
    "> When the required packages are imported, for loading a CSV file, this Project will utilise Pandas to load the data."
   ]
  },
  {
   "cell_type": "code",
   "execution_count": 22,
   "id": "23b26a61-f885-4289-9b76-719e36939eb3",
   "metadata": {},
   "outputs": [],
   "source": [
    "# Load training and testing datasets\n",
    "train_df = pd.read_csv(\"https://raw.githubusercontent.com/Jana-Liebenberg/2401PTDS_Classification_Project/main/Data/processed/train.csv\", encoding=\"utf-8\")\n",
    "test_df = pd.read_csv(\"https://raw.githubusercontent.com/Jana-Liebenberg/2401PTDS_Classification_Project/main/Data/processed/test.csv\", encoding=\"utf-8\")\n"
   ]
  },
  {
   "cell_type": "code",
   "execution_count": 23,
   "id": "dd1b96ba-8e6f-4b36-829d-682ca5591500",
   "metadata": {},
   "outputs": [
    {
     "data": {
      "text/html": [
       "<div>\n",
       "<style scoped>\n",
       "    .dataframe tbody tr th:only-of-type {\n",
       "        vertical-align: middle;\n",
       "    }\n",
       "\n",
       "    .dataframe tbody tr th {\n",
       "        vertical-align: top;\n",
       "    }\n",
       "\n",
       "    .dataframe thead th {\n",
       "        text-align: right;\n",
       "    }\n",
       "</style>\n",
       "<table border=\"1\" class=\"dataframe\">\n",
       "  <thead>\n",
       "    <tr style=\"text-align: right;\">\n",
       "      <th></th>\n",
       "      <th>headlines</th>\n",
       "      <th>description</th>\n",
       "      <th>content</th>\n",
       "      <th>url</th>\n",
       "      <th>category</th>\n",
       "    </tr>\n",
       "  </thead>\n",
       "  <tbody>\n",
       "    <tr>\n",
       "      <th>0</th>\n",
       "      <td>RBI revises definition of politically-exposed ...</td>\n",
       "      <td>The central bank has also asked chairpersons a...</td>\n",
       "      <td>The Reserve Bank of India (RBI) has changed th...</td>\n",
       "      <td>https://indianexpress.com/article/business/ban...</td>\n",
       "      <td>business</td>\n",
       "    </tr>\n",
       "    <tr>\n",
       "      <th>1</th>\n",
       "      <td>NDTV Q2 net profit falls 57.4% to Rs 5.55 cror...</td>\n",
       "      <td>NDTV's consolidated revenue from operations wa...</td>\n",
       "      <td>Broadcaster New Delhi Television Ltd on Monday...</td>\n",
       "      <td>https://indianexpress.com/article/business/com...</td>\n",
       "      <td>business</td>\n",
       "    </tr>\n",
       "  </tbody>\n",
       "</table>\n",
       "</div>"
      ],
      "text/plain": [
       "                                           headlines  \\\n",
       "0  RBI revises definition of politically-exposed ...   \n",
       "1  NDTV Q2 net profit falls 57.4% to Rs 5.55 cror...   \n",
       "\n",
       "                                         description  \\\n",
       "0  The central bank has also asked chairpersons a...   \n",
       "1  NDTV's consolidated revenue from operations wa...   \n",
       "\n",
       "                                             content  \\\n",
       "0  The Reserve Bank of India (RBI) has changed th...   \n",
       "1  Broadcaster New Delhi Television Ltd on Monday...   \n",
       "\n",
       "                                                 url  category  \n",
       "0  https://indianexpress.com/article/business/ban...  business  \n",
       "1  https://indianexpress.com/article/business/com...  business  "
      ]
     },
     "metadata": {},
     "output_type": "display_data"
    },
    {
     "data": {
      "text/html": [
       "<div>\n",
       "<style scoped>\n",
       "    .dataframe tbody tr th:only-of-type {\n",
       "        vertical-align: middle;\n",
       "    }\n",
       "\n",
       "    .dataframe tbody tr th {\n",
       "        vertical-align: top;\n",
       "    }\n",
       "\n",
       "    .dataframe thead th {\n",
       "        text-align: right;\n",
       "    }\n",
       "</style>\n",
       "<table border=\"1\" class=\"dataframe\">\n",
       "  <thead>\n",
       "    <tr style=\"text-align: right;\">\n",
       "      <th></th>\n",
       "      <th>headlines</th>\n",
       "      <th>description</th>\n",
       "      <th>content</th>\n",
       "      <th>url</th>\n",
       "      <th>category</th>\n",
       "    </tr>\n",
       "  </thead>\n",
       "  <tbody>\n",
       "    <tr>\n",
       "      <th>0</th>\n",
       "      <td>NLC India wins contract for power supply to Ra...</td>\n",
       "      <td>State-owned firm NLC India Ltd (NLCIL) on Mond...</td>\n",
       "      <td>State-owned firm NLC India Ltd (NLCIL) on Mond...</td>\n",
       "      <td>https://indianexpress.com/article/business/com...</td>\n",
       "      <td>business</td>\n",
       "    </tr>\n",
       "    <tr>\n",
       "      <th>1</th>\n",
       "      <td>SBI Clerk prelims exams dates announced; admit...</td>\n",
       "      <td>SBI Clerk Prelims Exam: The SBI Clerk prelims ...</td>\n",
       "      <td>SBI Clerk Prelims Exam: The State Bank of Indi...</td>\n",
       "      <td>https://indianexpress.com/article/education/sb...</td>\n",
       "      <td>education</td>\n",
       "    </tr>\n",
       "  </tbody>\n",
       "</table>\n",
       "</div>"
      ],
      "text/plain": [
       "                                           headlines  \\\n",
       "0  NLC India wins contract for power supply to Ra...   \n",
       "1  SBI Clerk prelims exams dates announced; admit...   \n",
       "\n",
       "                                         description  \\\n",
       "0  State-owned firm NLC India Ltd (NLCIL) on Mond...   \n",
       "1  SBI Clerk Prelims Exam: The SBI Clerk prelims ...   \n",
       "\n",
       "                                             content  \\\n",
       "0  State-owned firm NLC India Ltd (NLCIL) on Mond...   \n",
       "1  SBI Clerk Prelims Exam: The State Bank of Indi...   \n",
       "\n",
       "                                                 url   category  \n",
       "0  https://indianexpress.com/article/business/com...   business  \n",
       "1  https://indianexpress.com/article/education/sb...  education  "
      ]
     },
     "metadata": {},
     "output_type": "display_data"
    }
   ],
   "source": [
    "# Display first few rows of the Dataframes as tables\n",
    "display(train_df.head(2))\n",
    "display(test_df.head(2))\n"
   ]
  },
  {
   "cell_type": "markdown",
   "id": "39df45e6-3e02-4ffe-9ad8-c52f018c2b99",
   "metadata": {},
   "source": [
    "<h3 style=\"color:blue;\">DATA CLEANING AND TEXT PREPROCESSING</h3>\n"
   ]
  },
  {
   "cell_type": "markdown",
   "id": "599b9afc-199a-45c6-8f7d-45ebb2c44a74",
   "metadata": {},
   "source": [
    "> Text cleaning is essential for improving model accuracy. We'll look into standardizing text by converting everything to lowercase, removing punctuation and special characters, splitting text into individual words for further processing and removing common words that don't add much meaning."
   ]
  },
  {
   "cell_type": "markdown",
   "id": "773bd76a-4efd-42e8-8481-716a2165ed82",
   "metadata": {},
   "source": [
    "Let's start by printing a list of all categories that are present in this dataset"
   ]
  },
  {
   "cell_type": "code",
   "execution_count": 24,
   "id": "5c2cdca8-7aee-4155-bb44-2a785573ab2e",
   "metadata": {},
   "outputs": [
    {
     "name": "stdout",
     "output_type": "stream",
     "text": [
      "['business', 'sports', 'entertainment', 'education', 'technology']\n"
     ]
    }
   ],
   "source": [
    "# Print list of unique newspaper categories\n",
    "category_labels = list(train_df.category.unique())\n",
    "print(category_labels)"
   ]
  },
  {
   "cell_type": "code",
   "execution_count": 25,
   "id": "f0597312-d23f-499c-8e28-93b58cee11a4",
   "metadata": {},
   "outputs": [
    {
     "data": {
      "image/png": "[encoded data removed]",
      "text/plain": [
       "<Figure size 640x480 with 1 Axes>"
      ]
     },
     "metadata": {},
     "output_type": "display_data"
    }
   ],
   "source": [
    "# Define a color palette\n",
    "colors = sns.color_palette('husl', len(train_df['category'].value_counts()))\n",
    "\n",
    "# Visualize the distribution of the categories with colored bars\n",
    "train_df['category'].value_counts().plot(kind='bar', color=colors)\n",
    "plt.xlabel('Category')\n",
    "plt.ylabel('Count')\n",
    "plt.title('Distribution of Category Labels')\n",
    "plt.show()\n"
   ]
  },
  {
   "cell_type": "code",
   "execution_count": 26,
   "id": "d8a9b578-b9ff-41e6-a8cb-176a3815b0be",
   "metadata": {},
   "outputs": [
    {
     "data": {
      "text/plain": [
       "(5520, 5)"
      ]
     },
     "execution_count": 26,
     "metadata": {},
     "output_type": "execute_result"
    }
   ],
   "source": [
    "# Shape of the dataset\n",
    "train_df.shape"
   ]
  },
  {
   "cell_type": "code",
   "execution_count": 27,
   "id": "8d8b7a2e-1512-472b-886e-40e36e2d71d5",
   "metadata": {},
   "outputs": [
    {
     "name": "stdout",
     "output_type": "stream",
     "text": [
      "Missing values in dataset:\n",
      " headlines      0\n",
      "description    0\n",
      "content        0\n",
      "url            0\n",
      "category       0\n",
      "dtype: int64\n"
     ]
    }
   ],
   "source": [
    "# Check for missing values\n",
    "print(\"Missing values in dataset:\\n\", train_df.isnull().sum())"
   ]
  },
  {
   "cell_type": "markdown",
   "id": "4a4df036-ea5e-4e65-b911-7db0ca3837f9",
   "metadata": {},
   "source": [
    "There was no need to handle missing values as there were none"
   ]
  },
  {
   "cell_type": "code",
   "execution_count": 28,
   "id": "a568052e-f838-4074-bab2-076aa2577af0",
   "metadata": {},
   "outputs": [],
   "source": [
    "#Remove duplicates\n",
    "# Remove duplicate rows\n",
    "train_df.drop_duplicates(inplace=True) "
   ]
  },
  {
   "cell_type": "code",
   "execution_count": 29,
   "id": "f0e31751-4ff5-4b05-bd8c-50c82eb85754",
   "metadata": {},
   "outputs": [
    {
     "name": "stdout",
     "output_type": "stream",
     "text": [
      "No duplicates found in the dataset.\n"
     ]
    }
   ],
   "source": [
    "# Check for duplicates\n",
    "if train_df.duplicated().any():\n",
    "    print(\"Duplicates are present in the dataset.\")\n",
    "else:\n",
    "    print(\"No duplicates found in the dataset.\")\n"
   ]
  },
  {
   "cell_type": "code",
   "execution_count": 30,
   "id": "f4712212-47e3-4d3e-974c-121060f5a69c",
   "metadata": {},
   "outputs": [],
   "source": [
    "# Define the text preprocessing function\n",
    "def format_data(text):\n",
    "    \"\"\"\n",
    "    Function to clean text:\n",
    "    - Convert to lowercase\n",
    "    - Remove special characters\n",
    "    - Tokenize and remove stopwords\n",
    "    \"\"\"\n",
    "    if isinstance(text, str):  # Ensure the input is a string\n",
    "        text = text.lower()  # Convert to lowercase\n",
    "        text = re.sub(r\"\\W\", \" \", text)  # Remove special characters\n",
    "        tokens = word_tokenize(text)  # Tokenize text\n",
    "        filtered_tokens = [word for word in tokens if word not in stopwords.words(\"english\")]  # Remove stopwords\n",
    "        return \" \".join(filtered_tokens)  # Join tokens back into a string\n",
    "    return \"\"  # Handle cases with missing or invalid data\n"
   ]
  },
  {
   "cell_type": "code",
   "execution_count": 31,
   "id": "3238d931-6132-424c-9c66-3d81c2df0298",
   "metadata": {},
   "outputs": [
    {
     "name": "stdout",
     "output_type": "stream",
     "text": [
      "                                           headlines  \\\n",
      "0  rbi revises definition politically exposed per...   \n",
      "1  ndtv q2 net profit falls 57 4 rs 5 55 crore im...   \n",
      "2  akasa air well capitalised grow much faster ce...   \n",
      "3  india current account deficit declines sharply...   \n",
      "4  states borrowing cost soars 7 68 highest far f...   \n",
      "\n",
      "                                         description  \\\n",
      "0  central bank also asked chairpersons chief exe...   \n",
      "1  ndtv consolidated revenue operations rs 95 55 ...   \n",
      "2  initial share sale open public subscription ju...   \n",
      "3  current account deficit cad 3 8 per cent gdp u...   \n",
      "4  prices shot reflecting overall higher risk ave...   \n",
      "\n",
      "                                             content  \n",
      "0  reserve bank india rbi changed definition poli...  \n",
      "1  broadcaster new delhi television ltd monday re...  \n",
      "2  homegrown server maker netweb technologies ind...  \n",
      "3  india current account deficit declined sharply...  \n",
      "4  states forced pay nose weekly auction debt tue...  \n"
     ]
    }
   ],
   "source": [
    "# Apply the function to each column\n",
    "train_df[\"headlines\"] = train_df[\"headlines\"].apply(format_data)\n",
    "train_df[\"description\"] = train_df[\"description\"].apply(format_data)\n",
    "train_df[\"content\"] = train_df[\"content\"].apply(format_data)\n",
    "\n",
    "# Preview the preprocessed data\n",
    "print(train_df[[\"headlines\", \"description\", \"content\"]].head())"
   ]
  },
  {
   "cell_type": "markdown",
   "id": "506c1550",
   "metadata": {},
   "source": [
    "<h3 style=\"color:blue;\">FEATURE ENGENEERING</h3>"
   ]
  },
  {
   "cell_type": "code",
   "execution_count": 32,
   "id": "17d3eae7-50eb-438c-a007-332c4aaefbc5",
   "metadata": {},
   "outputs": [
    {
     "data": {
      "text/html": [
       "<div>\n",
       "<style scoped>\n",
       "    .dataframe tbody tr th:only-of-type {\n",
       "        vertical-align: middle;\n",
       "    }\n",
       "\n",
       "    .dataframe tbody tr th {\n",
       "        vertical-align: top;\n",
       "    }\n",
       "\n",
       "    .dataframe thead th {\n",
       "        text-align: right;\n",
       "    }\n",
       "</style>\n",
       "<table border=\"1\" class=\"dataframe\">\n",
       "  <thead>\n",
       "    <tr style=\"text-align: right;\">\n",
       "      <th></th>\n",
       "      <th>headlines</th>\n",
       "      <th>description</th>\n",
       "      <th>content</th>\n",
       "      <th>url</th>\n",
       "      <th>category</th>\n",
       "    </tr>\n",
       "  </thead>\n",
       "  <tbody>\n",
       "    <tr>\n",
       "      <th>0</th>\n",
       "      <td>rbi revises definition politically exposed per...</td>\n",
       "      <td>central bank also asked chairpersons chief exe...</td>\n",
       "      <td>reserve bank india rbi changed definition poli...</td>\n",
       "      <td>https://indianexpress.com/article/business/ban...</td>\n",
       "      <td>business</td>\n",
       "    </tr>\n",
       "    <tr>\n",
       "      <th>1</th>\n",
       "      <td>ndtv q2 net profit falls 57 4 rs 5 55 crore im...</td>\n",
       "      <td>ndtv consolidated revenue operations rs 95 55 ...</td>\n",
       "      <td>broadcaster new delhi television ltd monday re...</td>\n",
       "      <td>https://indianexpress.com/article/business/com...</td>\n",
       "      <td>business</td>\n",
       "    </tr>\n",
       "    <tr>\n",
       "      <th>2</th>\n",
       "      <td>akasa air well capitalised grow much faster ce...</td>\n",
       "      <td>initial share sale open public subscription ju...</td>\n",
       "      <td>homegrown server maker netweb technologies ind...</td>\n",
       "      <td>https://indianexpress.com/article/business/mar...</td>\n",
       "      <td>business</td>\n",
       "    </tr>\n",
       "    <tr>\n",
       "      <th>3</th>\n",
       "      <td>india current account deficit declines sharply...</td>\n",
       "      <td>current account deficit cad 3 8 per cent gdp u...</td>\n",
       "      <td>india current account deficit declined sharply...</td>\n",
       "      <td>https://indianexpress.com/article/business/eco...</td>\n",
       "      <td>business</td>\n",
       "    </tr>\n",
       "    <tr>\n",
       "      <th>4</th>\n",
       "      <td>states borrowing cost soars 7 68 highest far f...</td>\n",
       "      <td>prices shot reflecting overall higher risk ave...</td>\n",
       "      <td>states forced pay nose weekly auction debt tue...</td>\n",
       "      <td>https://indianexpress.com/article/business/eco...</td>\n",
       "      <td>business</td>\n",
       "    </tr>\n",
       "  </tbody>\n",
       "</table>\n",
       "</div>"
      ],
      "text/plain": [
       "                                           headlines  \\\n",
       "0  rbi revises definition politically exposed per...   \n",
       "1  ndtv q2 net profit falls 57 4 rs 5 55 crore im...   \n",
       "2  akasa air well capitalised grow much faster ce...   \n",
       "3  india current account deficit declines sharply...   \n",
       "4  states borrowing cost soars 7 68 highest far f...   \n",
       "\n",
       "                                         description  \\\n",
       "0  central bank also asked chairpersons chief exe...   \n",
       "1  ndtv consolidated revenue operations rs 95 55 ...   \n",
       "2  initial share sale open public subscription ju...   \n",
       "3  current account deficit cad 3 8 per cent gdp u...   \n",
       "4  prices shot reflecting overall higher risk ave...   \n",
       "\n",
       "                                             content  \\\n",
       "0  reserve bank india rbi changed definition poli...   \n",
       "1  broadcaster new delhi television ltd monday re...   \n",
       "2  homegrown server maker netweb technologies ind...   \n",
       "3  india current account deficit declined sharply...   \n",
       "4  states forced pay nose weekly auction debt tue...   \n",
       "\n",
       "                                                 url  category  \n",
       "0  https://indianexpress.com/article/business/ban...  business  \n",
       "1  https://indianexpress.com/article/business/com...  business  \n",
       "2  https://indianexpress.com/article/business/mar...  business  \n",
       "3  https://indianexpress.com/article/business/eco...  business  \n",
       "4  https://indianexpress.com/article/business/eco...  business  "
      ]
     },
     "execution_count": 32,
     "metadata": {},
     "output_type": "execute_result"
    }
   ],
   "source": [
    "#Display cleaned DataFrame \n",
    "train_df.head()"
   ]
  },
  {
   "cell_type": "code",
   "execution_count": 33,
   "id": "db33a792-e10a-46b6-adaa-7f4f4d0e1d0d",
   "metadata": {},
   "outputs": [
    {
     "name": "stdout",
     "output_type": "stream",
     "text": [
      "                                                headlines  \\\n",
      "count                                                5520   \n",
      "unique                                               5512   \n",
      "top     international education day 2024 know celebrat...   \n",
      "freq                                                    2   \n",
      "\n",
      "                                              description  \\\n",
      "count                                                5520   \n",
      "unique                                               5506   \n",
      "top     university removed requirements caiib certific...   \n",
      "freq                                                    2   \n",
      "\n",
      "                                                  content  \\\n",
      "count                                                5520   \n",
      "unique                                               5513   \n",
      "top     grand slam fever grips tennis fans world 2023 ...   \n",
      "freq                                                    5   \n",
      "\n",
      "                                                      url   category  \n",
      "count                                                5520       5520  \n",
      "unique                                               5514          5  \n",
      "top     https://indianexpress.com/article/education/kc...  education  \n",
      "freq                                                    2       1520  \n"
     ]
    }
   ],
   "source": [
    "# Summary statistics\n",
    "print(train_df.describe())"
   ]
  },
  {
   "cell_type": "code",
   "execution_count": 34,
   "id": "2ac4773c-a6be-49c8-836c-f772e7d5bef0",
   "metadata": {},
   "outputs": [
    {
     "name": "stdout",
     "output_type": "stream",
     "text": [
      "y_train shape: (5520,)\n"
     ]
    }
   ],
   "source": [
    "from sklearn.feature_extraction.text import CountVectorizer\n",
    "\n",
    "# Format target variables\n",
    "y_train = train_df['category']\n",
    "y_test = test_df['category']\n",
    "\n",
    "print('y_train shape:', y_train.shape)"
   ]
  },
  {
   "cell_type": "code",
   "execution_count": 35,
   "id": "c00d2ee9-f2b2-4a1a-b747-893a8964776c",
   "metadata": {},
   "outputs": [],
   "source": [
    "# Defining a function to vectorize data\n",
    "def vectorize_data(column):\n",
    "    # Initialize CountVectorizer with stop_words handling and minimum document frequency\n",
    "    vect = CountVectorizer(stop_words='english', min_df=0.01)  \n",
    "    X_train = vect.fit_transform(train_df[column]).toarray()  # Transform and convert to NumPy array\n",
    "    X_test = vect.transform(test_df[column]).toarray()\n",
    "\n",
    "    return X_train, X_test"
   ]
  },
  {
   "cell_type": "code",
   "execution_count": null,
   "id": "56d2b2ff-7f88-48e7-8ab8-f1a3f9785a9c",
   "metadata": {},
   "outputs": [],
   "source": [
    "# Apply vectorization to each column\n",
    "X_headlines_train, X_headlines_test = vectorize_data('headlines')\n",
    "X_description_train, X_description_test = vectorize_data('description')  \n",
    "X_content_train, X_content_test = vectorize_data('content')"
   ]
  },
  {
   "cell_type": "code",
   "execution_count": 37,
   "id": "79357e07",
   "metadata": {},
   "outputs": [
    {
     "name": "stdout",
     "output_type": "stream",
     "text": [
      "X_headlines_train: (5520, 99)\n",
      "X_headlines_test: (2000, 99)\n",
      "X_description_train: (5520, 204)\n",
      "X_description_test: (2000, 204)\n",
      "X_content_train: (5520, 1735)\n",
      "X_content_test: (2000, 1735)\n"
     ]
    }
   ],
   "source": [
    "# Print results\n",
    "print('X_headlines_train:', X_headlines_train.shape)\n",
    "print('X_headlines_test:', X_headlines_test.shape)\n",
    "print('X_description_train:', X_description_train.shape)\n",
    "print('X_description_test:', X_description_test.shape)\n",
    "print('X_content_train:', X_content_train.shape)\n",
    "print('X_content_test:', X_content_test.shape)"
   ]
  },
  {
   "cell_type": "code",
   "execution_count": null,
   "id": "5da58dcc",
   "metadata": {},
   "outputs": [],
   "source": []
  },
  {
   "cell_type": "markdown",
   "id": "a05af281-606b-47a0-b916-3277cd1c7992",
   "metadata": {},
   "source": [
    "<h3 style=\"color:green;\">CONCLUSION AND INSIGHTS</h3>"
   ]
  },
  {
   "cell_type": "markdown",
   "id": "ecb3bd5b-ab4f-4c3b-99d6-cd17fb23a6f0",
   "metadata": {},
   "source": [
    "> To conclude, "
   ]
  }
 ],
 "metadata": {
  "kernelspec": {
   "display_name": "base",
   "language": "python",
   "name": "python3"
  },
  "language_info": {
   "codemirror_mode": {
    "name": "ipython",
    "version": 3
   },
   "file_extension": ".py",
   "mimetype": "text/x-python",
   "name": "python",
   "nbconvert_exporter": "python",
   "pygments_lexer": "ipython3",
   "version": "3.12.4"
  }
 },
 "nbformat": 4,
 "nbformat_minor": 5
}
