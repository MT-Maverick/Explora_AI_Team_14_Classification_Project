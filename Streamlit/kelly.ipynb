{
 "cells": [
  {
   "cell_type": "markdown",
   "id": "40d42af3-0d36-4fed-ade8-5c189469bd8b",
   "metadata": {},
   "source": [
    "<h1 style=\"color:black;\">Classification Project: Newspaper Articles</h1>"
   ]
  },
  {
   "cell_type": "markdown",
   "id": "a4d699a7-050f-498c-a58f-8b8917905cf1",
   "metadata": {},
   "source": [
    "<h3 style=\"color:blue;\">PROJECT OVERVIEW</h3>"
   ]
  },
  {
   "cell_type": "markdown",
   "id": "0c22ed09-70b7-47bd-b81d-483344afa3bb",
   "metadata": {},
   "source": [
    ">The key goal of this classification project is for our team to develop machine learning models that can automatically classify newspaper articles. This project is an end-to-end project covering all stages, from loading and preprocessing data to training models, evaluating them, and deploying the solution as a web app using Streamlit."
   ]
  },
  {
   "cell_type": "markdown",
   "id": "a830a160-194a-47a3-b888-e76eda1ee776",
   "metadata": {},
   "source": [
    "<h3 style=\"color:blue;\">IMPORTING PACKAGES</h3>"
   ]
  },
  {
   "cell_type": "markdown",
   "id": "72bc717e-0601-441a-adcd-a96530c25810",
   "metadata": {},
   "source": [
    "> This project will utilise the packages below to efficiently load, clean, analyse and visualise the newspaper article data. The packages are imported and necessary libraries are downloaded below:"
   ]
  },
  {
   "cell_type": "code",
   "execution_count": 1,
   "id": "e73e73b6-d9d1-45a8-9aed-f1908111f145",
   "metadata": {},
   "outputs": [],
   "source": [
    "# Importing Pandas for data manipulation and analysis\n",
    "import pandas as pd\n",
    "\n",
    "# Importing NumPy for numerical operations\n",
    "import numpy as np\n",
    "\n",
    "# Importing Matplotlib for data visualization\n",
    "import matplotlib.pyplot as plt\n",
    "\n",
    "# Importing Seaborn for advanced data visualization\n",
    "import seaborn as sns\n",
    "\n",
    "# Importing IPython.display for displaying rich media in Jupyter Notebooks\n",
    "from IPython.display import display, Image\n",
    "\n",
    "# Importing nltk for tokenization, lemmatization, and text preprocessing\n",
    "import nltk \n",
    "\n",
    "# Importing re for regular expressions to clean and manipulate text\n",
    "import re\n",
    "\n",
    "# Importing string for handling common string operations, such as removing punctuation\n",
    "import string\n",
    "\n",
    "# Importing nltk.corpus to improve text processing\n",
    "from nltk.corpus import  stopwords\n",
    "\n",
    "# Importing nltk.tokenize to split text into words or sentences for NLP tasks\n",
    "from nltk.tokenize import word_tokenize, TreebankWordTokenizer\n",
    "\n",
    "# Importing nltk.stem to converts words to their root forms, improving text understanding\n",
    "from nltk.stem import WordNetLemmatizer\n",
    "\n",
    "# Convert text to numerical vectors\n",
    "from sklearn.feature_extraction.text import TfidfVectorizer \n",
    "\n",
    "# Splitting data\n",
    "from sklearn.model_selection import train_test_split \n"
   ]
  },
  {
   "cell_type": "code",
   "execution_count": 2,
   "id": "344af896-aabd-4703-b9f7-7bcf0793d4b5",
   "metadata": {},
   "outputs": [
    {
     "name": "stderr",
     "output_type": "stream",
     "text": [
      "[nltk_data] Downloading package punkt to\n",
      "[nltk_data]     C:\\Users\\kelly\\AppData\\Roaming\\nltk_data...\n",
      "[nltk_data]   Package punkt is already up-to-date!\n",
      "[nltk_data] Downloading package punkt_tab to\n",
      "[nltk_data]     C:\\Users\\kelly\\AppData\\Roaming\\nltk_data...\n",
      "[nltk_data]   Package punkt_tab is already up-to-date!\n",
      "[nltk_data] Downloading package stopwords to\n",
      "[nltk_data]     C:\\Users\\kelly\\AppData\\Roaming\\nltk_data...\n",
      "[nltk_data]   Package stopwords is already up-to-date!\n",
      "[nltk_data] Downloading package wordnet to\n",
      "[nltk_data]     C:\\Users\\kelly\\AppData\\Roaming\\nltk_data...\n",
      "[nltk_data]   Package wordnet is already up-to-date!\n"
     ]
    },
    {
     "data": {
      "text/plain": [
       "True"
      ]
     },
     "execution_count": 2,
     "metadata": {},
     "output_type": "execute_result"
    }
   ],
   "source": [
    "nltk.download(['punkt','punkt_tab','stopwords','wordnet'])"
   ]
  },
  {
   "cell_type": "markdown",
   "id": "fd9ce86b-af85-49da-847b-af99ed6f0591",
   "metadata": {},
   "source": [
    "<h3 style=\"color:blue;\">DATA LOADING</h3>"
   ]
  },
  {
   "cell_type": "markdown",
   "id": "c086f70a-7ec8-4d82-a919-9e8b5dd101e1",
   "metadata": {},
   "source": [
    "> When the required packages are imported, for loading a CSV file, this Project will utilise Pandas to load the data."
   ]
  },
  {
   "cell_type": "code",
   "execution_count": 3,
   "id": "23b26a61-f885-4289-9b76-719e36939eb3",
   "metadata": {},
   "outputs": [],
   "source": [
    "# Load training and testing datasets\n",
    "train_df = pd.read_csv(\"https://raw.githubusercontent.com/Jana-Liebenberg/2401PTDS_Classification_Project/main/Data/processed/train.csv\", encoding=\"utf-8\")\n",
    "test_df = pd.read_csv(\"https://raw.githubusercontent.com/Jana-Liebenberg/2401PTDS_Classification_Project/main/Data/processed/test.csv\", encoding=\"utf-8\")\n"
   ]
  },
  {
   "cell_type": "code",
   "execution_count": 4,
   "id": "dd1b96ba-8e6f-4b36-829d-682ca5591500",
   "metadata": {},
   "outputs": [
    {
     "data": {
      "text/html": [
       "<div>\n",
       "<style scoped>\n",
       "    .dataframe tbody tr th:only-of-type {\n",
       "        vertical-align: middle;\n",
       "    }\n",
       "\n",
       "    .dataframe tbody tr th {\n",
       "        vertical-align: top;\n",
       "    }\n",
       "\n",
       "    .dataframe thead th {\n",
       "        text-align: right;\n",
       "    }\n",
       "</style>\n",
       "<table border=\"1\" class=\"dataframe\">\n",
       "  <thead>\n",
       "    <tr style=\"text-align: right;\">\n",
       "      <th></th>\n",
       "      <th>headlines</th>\n",
       "      <th>description</th>\n",
       "      <th>content</th>\n",
       "      <th>url</th>\n",
       "      <th>category</th>\n",
       "    </tr>\n",
       "  </thead>\n",
       "  <tbody>\n",
       "    <tr>\n",
       "      <th>0</th>\n",
       "      <td>RBI revises definition of politically-exposed ...</td>\n",
       "      <td>The central bank has also asked chairpersons a...</td>\n",
       "      <td>The Reserve Bank of India (RBI) has changed th...</td>\n",
       "      <td>https://indianexpress.com/article/business/ban...</td>\n",
       "      <td>business</td>\n",
       "    </tr>\n",
       "    <tr>\n",
       "      <th>1</th>\n",
       "      <td>NDTV Q2 net profit falls 57.4% to Rs 5.55 cror...</td>\n",
       "      <td>NDTV's consolidated revenue from operations wa...</td>\n",
       "      <td>Broadcaster New Delhi Television Ltd on Monday...</td>\n",
       "      <td>https://indianexpress.com/article/business/com...</td>\n",
       "      <td>business</td>\n",
       "    </tr>\n",
       "  </tbody>\n",
       "</table>\n",
       "</div>"
      ],
      "text/plain": [
       "                                           headlines  \\\n",
       "0  RBI revises definition of politically-exposed ...   \n",
       "1  NDTV Q2 net profit falls 57.4% to Rs 5.55 cror...   \n",
       "\n",
       "                                         description  \\\n",
       "0  The central bank has also asked chairpersons a...   \n",
       "1  NDTV's consolidated revenue from operations wa...   \n",
       "\n",
       "                                             content  \\\n",
       "0  The Reserve Bank of India (RBI) has changed th...   \n",
       "1  Broadcaster New Delhi Television Ltd on Monday...   \n",
       "\n",
       "                                                 url  category  \n",
       "0  https://indianexpress.com/article/business/ban...  business  \n",
       "1  https://indianexpress.com/article/business/com...  business  "
      ]
     },
     "metadata": {},
     "output_type": "display_data"
    },
    {
     "data": {
      "text/html": [
       "<div>\n",
       "<style scoped>\n",
       "    .dataframe tbody tr th:only-of-type {\n",
       "        vertical-align: middle;\n",
       "    }\n",
       "\n",
       "    .dataframe tbody tr th {\n",
       "        vertical-align: top;\n",
       "    }\n",
       "\n",
       "    .dataframe thead th {\n",
       "        text-align: right;\n",
       "    }\n",
       "</style>\n",
       "<table border=\"1\" class=\"dataframe\">\n",
       "  <thead>\n",
       "    <tr style=\"text-align: right;\">\n",
       "      <th></th>\n",
       "      <th>headlines</th>\n",
       "      <th>description</th>\n",
       "      <th>content</th>\n",
       "      <th>url</th>\n",
       "      <th>category</th>\n",
       "    </tr>\n",
       "  </thead>\n",
       "  <tbody>\n",
       "    <tr>\n",
       "      <th>0</th>\n",
       "      <td>NLC India wins contract for power supply to Ra...</td>\n",
       "      <td>State-owned firm NLC India Ltd (NLCIL) on Mond...</td>\n",
       "      <td>State-owned firm NLC India Ltd (NLCIL) on Mond...</td>\n",
       "      <td>https://indianexpress.com/article/business/com...</td>\n",
       "      <td>business</td>\n",
       "    </tr>\n",
       "    <tr>\n",
       "      <th>1</th>\n",
       "      <td>SBI Clerk prelims exams dates announced; admit...</td>\n",
       "      <td>SBI Clerk Prelims Exam: The SBI Clerk prelims ...</td>\n",
       "      <td>SBI Clerk Prelims Exam: The State Bank of Indi...</td>\n",
       "      <td>https://indianexpress.com/article/education/sb...</td>\n",
       "      <td>education</td>\n",
       "    </tr>\n",
       "  </tbody>\n",
       "</table>\n",
       "</div>"
      ],
      "text/plain": [
       "                                           headlines  \\\n",
       "0  NLC India wins contract for power supply to Ra...   \n",
       "1  SBI Clerk prelims exams dates announced; admit...   \n",
       "\n",
       "                                         description  \\\n",
       "0  State-owned firm NLC India Ltd (NLCIL) on Mond...   \n",
       "1  SBI Clerk Prelims Exam: The SBI Clerk prelims ...   \n",
       "\n",
       "                                             content  \\\n",
       "0  State-owned firm NLC India Ltd (NLCIL) on Mond...   \n",
       "1  SBI Clerk Prelims Exam: The State Bank of Indi...   \n",
       "\n",
       "                                                 url   category  \n",
       "0  https://indianexpress.com/article/business/com...   business  \n",
       "1  https://indianexpress.com/article/education/sb...  education  "
      ]
     },
     "metadata": {},
     "output_type": "display_data"
    }
   ],
   "source": [
    "# Display first few rows of the Dataframes as tables\n",
    "display(train_df.head(2))\n",
    "display(test_df.head(2))\n"
   ]
  },
  {
   "cell_type": "markdown",
   "id": "39df45e6-3e02-4ffe-9ad8-c52f018c2b99",
   "metadata": {},
   "source": [
    "<h3 style=\"color:blue;\">DATA CLEANING AND TEXT PREPROCESSING</h3>\n"
   ]
  },
  {
   "cell_type": "markdown",
   "id": "599b9afc-199a-45c6-8f7d-45ebb2c44a74",
   "metadata": {},
   "source": [
    "> Text cleaning is essential for improving model accuracy. We'll look into standardizing text by converting everything to lowercase, removing punctuation and special characters, splitting text into individual words for further processing and removing common words that don't add much meaning."
   ]
  },
  {
   "cell_type": "markdown",
   "id": "773bd76a-4efd-42e8-8481-716a2165ed82",
   "metadata": {},
   "source": [
    "Let's start by printing a list of all categories that are present in this dataset"
   ]
  },
  {
   "cell_type": "code",
   "execution_count": 5,
   "id": "5c2cdca8-7aee-4155-bb44-2a785573ab2e",
   "metadata": {},
   "outputs": [
    {
     "name": "stdout",
     "output_type": "stream",
     "text": [
      "['business', 'sports', 'entertainment', 'education', 'technology']\n"
     ]
    }
   ],
   "source": [
    "# Print list of unique newspaper categories\n",
    "category_labels = list(train_df.category.unique())\n",
    "print(category_labels)"
   ]
  },
  {
   "cell_type": "code",
   "execution_count": 6,
   "id": "f0597312-d23f-499c-8e28-93b58cee11a4",
   "metadata": {},
   "outputs": [
    {
     "data": {
      "image/png": "[encoded data removed]",
      "text/plain": [
       "<Figure size 640x480 with 1 Axes>"
      ]
     },
     "metadata": {},
     "output_type": "display_data"
    }
   ],
   "source": [
    "# Define a color palette\n",
    "colors = sns.color_palette('husl', len(train_df['category'].value_counts()))\n",
    "\n",
    "# Visualize the distribution of the categories with colored bars\n",
    "train_df['category'].value_counts().plot(kind='bar', color=colors)\n",
    "plt.xlabel('Category')\n",
    "plt.ylabel('Count')\n",
    "plt.title('Distribution of Category Labels')\n",
    "plt.show()\n"
   ]
  },
  {
   "cell_type": "code",
   "execution_count": 7,
   "id": "d8a9b578-b9ff-41e6-a8cb-176a3815b0be",
   "metadata": {},
   "outputs": [
    {
     "data": {
      "text/plain": [
       "(2000, 5)"
      ]
     },
     "execution_count": 7,
     "metadata": {},
     "output_type": "execute_result"
    }
   ],
   "source": [
    "# Shape of the dataset\n",
    "train_df.shape\n",
    "test_df.shape"
   ]
  },
  {
   "cell_type": "code",
   "execution_count": 8,
   "id": "8d8b7a2e-1512-472b-886e-40e36e2d71d5",
   "metadata": {},
   "outputs": [
    {
     "name": "stdout",
     "output_type": "stream",
     "text": [
      "Missing values in dataset:\n",
      " headlines      0\n",
      "description    0\n",
      "content        0\n",
      "url            0\n",
      "category       0\n",
      "dtype: int64\n",
      "Missing values in dataset:\n",
      " headlines      0\n",
      "description    0\n",
      "content        0\n",
      "url            0\n",
      "category       0\n",
      "dtype: int64\n"
     ]
    }
   ],
   "source": [
    "# Check for missing values\n",
    "print(\"Missing values in dataset:\\n\", train_df.isnull().sum())\n",
    "print(\"Missing values in dataset:\\n\", test_df.isnull().sum())"
   ]
  },
  {
   "cell_type": "markdown",
   "id": "4a4df036-ea5e-4e65-b911-7db0ca3837f9",
   "metadata": {},
   "source": [
    "There was no need to handle missing values as there were none"
   ]
  },
  {
   "cell_type": "code",
   "execution_count": 9,
   "id": "a568052e-f838-4074-bab2-076aa2577af0",
   "metadata": {},
   "outputs": [
    {
     "name": "stdout",
     "output_type": "stream",
     "text": [
      "No duplicates found in the dataset.\n"
     ]
    }
   ],
   "source": [
    "# Check and remove duplicates\n",
    "train_df.drop_duplicates(inplace=True) \n",
    "test_df.drop_duplicates(inplace=True)\n",
    "\n",
    "if train_df.duplicated().any():\n",
    "    print(\"Duplicates are present in the dataset.\")\n",
    "else:\n",
    "    print(\"No duplicates found in the dataset.\")\n",
    "\n",
    "if test_df.duplicated().any():\n",
    "    print(\"Duplicates are present in the dataset.\")"
   ]
  },
  {
   "cell_type": "code",
   "execution_count": 10,
   "id": "f4712212-47e3-4d3e-974c-121060f5a69c",
   "metadata": {},
   "outputs": [],
   "source": [
    "# Define a function to preprocess text data\n",
    "def format_data (text):\n",
    "    \"\"\"\n",
    "    Function to clean text:\n",
    "    - Convert to lowercase\n",
    "    - Replace URLs with a placeholder\n",
    "    - Remove HTML tags\n",
    "    - Remove punctuation and numbers\n",
    "    - Tokenize and remove stopwords\n",
    "    - Lemmatize words\n",
    "    \"\"\"\n",
    "    if isinstance(text, str):  \n",
    "        text = text.lower()  # Convert to lowercase\n",
    "        \n",
    "        # Replace URLs with placeholder\n",
    "        text = re.sub(r'http\\S+|www\\S+|https\\S+', 'url-web', text, flags=re.MULTILINE)\n",
    "        \n",
    "        # Remove HTML tags\n",
    "        text = re.sub(r'<.*?>', '', text)\n",
    "        \n",
    "        # Remove punctuation and numbers\n",
    "        text = text.translate(str.maketrans('', '', string.punctuation + '0123456789'))\n",
    "        \n",
    "        # Tokenize the text\n",
    "        tokens = word_tokenize(text)\n",
    "        \n",
    "        # Remove stopwords\n",
    "        tokens = [word for word in tokens if word not in stopwords.words('english')]\n",
    "        \n",
    "        # Lemmatize words\n",
    "        lemmatizer = WordNetLemmatizer()\n",
    "        tokens = [lemmatizer.lemmatize(word) for word in tokens]\n",
    "        \n",
    "        return ' '.join(tokens)\n",
    "    \n",
    "    return \"\"  # Handle missing or invalid data\n"
   ]
  },
  {
   "cell_type": "code",
   "execution_count": 11,
   "id": "3238d931-6132-424c-9c66-3d81c2df0298",
   "metadata": {},
   "outputs": [
    {
     "name": "stdout",
     "output_type": "stream",
     "text": [
      "                                           headlines  \\\n",
      "0  rbi revise definition politicallyexposed perso...   \n",
      "1  ndtv q net profit fall r crore impacted lower ...   \n",
      "2  akasa air ‘ well capitalised ’ grow much faste...   \n",
      "3  india ’ current account deficit decline sharpl...   \n",
      "4       state borrowing cost soar highest far fiscal   \n",
      "\n",
      "                                         description  \\\n",
      "0  central bank also asked chairperson chief exec...   \n",
      "1  ndtvs consolidated revenue operation r crore r...   \n",
      "2  initial share sale open public subscription ju...   \n",
      "3  current account deficit cad per cent gdp usd b...   \n",
      "4  price shot reflecting overall higher risk aver...   \n",
      "\n",
      "                                             content  \n",
      "0  reserve bank india rbi changed definition poli...  \n",
      "1  broadcaster new delhi television ltd monday re...  \n",
      "2  homegrown server maker netweb technology india...  \n",
      "3  india ’ current account deficit declined sharp...  \n",
      "4  state forced pay nose weekly auction debt tues...  \n"
     ]
    }
   ],
   "source": [
    "# Apply the function to each column in the training dataset\n",
    "train_df[\"headlines\"] = train_df[\"headlines\"].apply(format_data)\n",
    "train_df[\"description\"] = train_df[\"description\"].apply(format_data)\n",
    "train_df[\"content\"] = train_df[\"content\"].apply(format_data)\n",
    "\n",
    "# Preview the preprocessed data\n",
    "print(train_df[[\"headlines\", \"description\", \"content\"]].head())"
   ]
  },
  {
   "cell_type": "code",
   "execution_count": 12,
   "id": "d4cfdc97",
   "metadata": {},
   "outputs": [
    {
     "name": "stdout",
     "output_type": "stream",
     "text": [
      "                                           headlines  \\\n",
      "0  nlc india win contract power supply rajasthan ...   \n",
      "1  sbi clerk prelim exam date announced admit car...   \n",
      "2  golden globe michelle yeoh ferrell angela bass...   \n",
      "3                oneplus nord r part new price cut ’   \n",
      "4  adani family ’ partner used ‘ opaque ’ fund in...   \n",
      "\n",
      "                                         description  \\\n",
      "0  stateowned firm nlc india ltd nlcil monday sai...   \n",
      "1  sbi clerk prelim exam sbi clerk prelim exam te...   \n",
      "2  barbie top nominee year followed closely oppen...   \n",
      "3       new deal make oneplus nord easy purchase r k   \n",
      "4  citing review file multiple tax haven internal...   \n",
      "\n",
      "                                             content  \n",
      "0  stateowned firm nlc india ltd nlcil monday sai...  \n",
      "1  sbi clerk prelim exam state bank indian sbi an...  \n",
      "2  michelle yeoh ferrell angela bassett amanda se...  \n",
      "3  review oneplus nord g praised balanced combina...  \n",
      "4  million dollar invested publicly traded stock ...  \n"
     ]
    }
   ],
   "source": [
    "# Apply the function to each column in the test dataset\n",
    "test_df[\"headlines\"] = test_df[\"headlines\"].apply(format_data)\n",
    "test_df[\"description\"] = test_df[\"description\"].apply(format_data)\n",
    "test_df[\"content\"] = test_df[\"content\"].apply(format_data)\n",
    "\n",
    "# Preview the preprocessed test data\n",
    "print(test_df[[\"headlines\", \"description\", \"content\"]].head())\n",
    "# Combine the text columns into a single column for vectorization"
   ]
  },
  {
   "cell_type": "markdown",
   "id": "506c1550",
   "metadata": {},
   "source": [
    "<h3 style=\"color:blue;\">FEATURE ENGENEERING</h3>"
   ]
  },
  {
   "cell_type": "code",
   "execution_count": 13,
   "id": "2ac4773c-a6be-49c8-836c-f772e7d5bef0",
   "metadata": {},
   "outputs": [
    {
     "name": "stdout",
     "output_type": "stream",
     "text": [
      "y_train shape: (5520,)\n"
     ]
    }
   ],
   "source": [
    "import joblib\n",
    "from sklearn.feature_extraction.text import CountVectorizer\n",
    "\n",
    "# Format target variables\n",
    "y_train = train_df['category']\n",
    "y_test = test_df['category']\n",
    "\n",
    "print('y_train shape:', y_train.shape)"
   ]
  },
  {
   "cell_type": "code",
   "execution_count": 14,
   "id": "c00d2ee9-f2b2-4a1a-b747-893a8964776c",
   "metadata": {},
   "outputs": [],
   "source": [
    "# Defining a function to vectorize data\n",
    "def vectorize_data(column):\n",
    "    # Initialize CountVectorizer with stop_words handling and minimum document frequency\n",
    "    vect = CountVectorizer(stop_words='english', min_df=0.01)  \n",
    "    X_train = vect.fit_transform(train_df[column]).toarray()  # Transform and convert to NumPy array\n",
    "    X_test = vect.transform(test_df[column]).toarray()\n",
    "    joblib.dump(vect, 'vectorizer.pkl')\n",
    "\n",
    "    return X_train, X_test"
   ]
  },
  {
   "cell_type": "code",
   "execution_count": 15,
   "id": "56d2b2ff-7f88-48e7-8ab8-f1a3f9785a9c",
   "metadata": {},
   "outputs": [],
   "source": [
    "# Apply vectorization to each column\n",
    "X_headlines_train, X_headlines_test = vectorize_data('headlines')\n",
    "X_description_train, X_description_test = vectorize_data('description')  \n",
    "X_content_train, X_content_test = vectorize_data('content')"
   ]
  },
  {
   "cell_type": "code",
   "execution_count": 16,
   "id": "79357e07",
   "metadata": {},
   "outputs": [
    {
     "name": "stdout",
     "output_type": "stream",
     "text": [
      "X_headlines_train: (5520, 108)\n",
      "X_headlines_test: (2000, 108)\n",
      "X_description_train: (5520, 192)\n",
      "X_description_test: (2000, 192)\n",
      "X_content_train: (5520, 1506)\n",
      "X_content_test: (2000, 1506)\n"
     ]
    }
   ],
   "source": [
    "# Print results\n",
    "print('X_headlines_train:', X_headlines_train.shape)\n",
    "print('X_headlines_test:', X_headlines_test.shape)\n",
    "print('X_description_train:', X_description_train.shape)\n",
    "print('X_description_test:', X_description_test.shape)\n",
    "print('X_content_train:', X_content_train.shape)\n",
    "print('X_content_test:', X_content_test.shape)"
   ]
  },
  {
   "cell_type": "markdown",
   "id": "5da58dcc",
   "metadata": {},
   "source": [
    "<h3 style=\"color:blue;\">TRAINING MODELS</h3>"
   ]
  },
  {
   "cell_type": "code",
   "execution_count": 17,
   "id": "c846de84",
   "metadata": {},
   "outputs": [],
   "source": [
    "# !pip install mlflow when MLflow is not installed\n",
    "# Set the tracking URI for MLflow\n",
    "import mlflow\n",
    "import mlflow.sklearn"
   ]
  },
  {
   "cell_type": "code",
   "execution_count": 18,
   "id": "56f64c18",
   "metadata": {},
   "outputs": [
    {
     "data": {
      "text/plain": [
       "<Experiment: artifact_location='file:///c:/Users/kelly/Desktop/NLP%20Project-cloned/Explora_AI_Team_14_Classification_Project/Streamlit/mlruns/813981363149581026', creation_time=1746429792104, experiment_id='813981363149581026', last_update_time=1746429792104, lifecycle_stage='active', name='News Category Classification', tags={}>"
      ]
     },
     "execution_count": 18,
     "metadata": {},
     "output_type": "execute_result"
    }
   ],
   "source": [
    "mlflow.set_experiment(\"News Category Classification\")"
   ]
  },
  {
   "cell_type": "code",
   "execution_count": 19,
   "id": "ac32d330",
   "metadata": {},
   "outputs": [],
   "source": [
    "# Import necessary libraries for model training\n",
    "from sklearn.naive_bayes import MultinomialNB\n",
    "from sklearn.metrics import classification_report, accuracy_score, confusion_matrix\n",
    "from sklearn.pipeline import make_pipeline\n",
    "from sklearn.linear_model import LogisticRegression \n",
    "from sklearn.ensemble import RandomForestClassifier\n",
    "from sklearn.svm import SVC"
   ]
  },
  {
   "cell_type": "code",
   "execution_count": 20,
   "id": "64ffb887",
   "metadata": {},
   "outputs": [
    {
     "name": "stdout",
     "output_type": "stream",
     "text": [
      "X_train shape: (5520, 1806)\n",
      "X_test shape: (2000, 1806)\n",
      "X_train_split shape: (4416, 1806)\n",
      "X_val_split shape: (1104, 1806)\n",
      "y_train_split shape: (4416,)\n",
      "y_val_split shape: (1104,)\n"
     ]
    }
   ],
   "source": [
    "# Prepare the data for model training\n",
    "#combine all three vectorized columns into a single feature set\n",
    "X_train = np.concatenate((X_headlines_train, X_description_train, X_content_train), axis=1)\n",
    "X_test = np.concatenate((X_headlines_test, X_description_test, X_content_test), axis=1)\n",
    "\n",
    "# Print the shape of the training and testing data\n",
    "print('X_train shape:', X_train.shape)\n",
    "print('X_test shape:', X_test.shape)\n",
    "\n",
    "# Split the training data into training and validation sets\n",
    "X_train_split, X_val_split, y_train_split, y_val_split = train_test_split(X_train, y_train, test_size=0.2, random_state=42)\n",
    "\n",
    "# Print the shape of the training and validation sets   \n",
    "print('X_train_split shape:', X_train_split.shape)\n",
    "print('X_val_split shape:', X_val_split.shape)\n",
    "print('y_train_split shape:', y_train_split.shape)\n",
    "print('y_val_split shape:', y_val_split.shape)"
   ]
  },
  {
   "cell_type": "code",
   "execution_count": 21,
   "id": "1cb490b2",
   "metadata": {},
   "outputs": [],
   "source": [
    "# Initialize the models\n",
    "models = {\n",
    "    'Logistic Regression': LogisticRegression(max_iter=1000),\n",
    "    'Random Forest': RandomForestClassifier(n_estimators=100, random_state=42),\n",
    "    'Support Vector Classifier': SVC(kernel='linear', random_state=42),\n",
    "    'Naive Bayes': MultinomialNB()\n",
    "}\n",
    "# Initialize a dictionary to store the results\n",
    "results = {}\n"
   ]
  },
  {
   "cell_type": "markdown",
   "id": "ef32b136",
   "metadata": {},
   "source": [
    "<h3 style=\"color:blue;\">TRAINING AND EVALUATING MODELS INSIDE MLFLOW</h3>"
   ]
  },
  {
   "cell_type": "code",
   "execution_count": 22,
   "id": "e2073997",
   "metadata": {},
   "outputs": [
    {
     "name": "stdout",
     "output_type": "stream",
     "text": [
      "Model: Logistic Regression\n",
      "Classification Report:\n",
      "                precision    recall  f1-score   support\n",
      "\n",
      "     business       0.94      0.96      0.95       245\n",
      "    education       0.99      0.99      0.99       274\n",
      "entertainment       1.00      0.99      1.00       178\n",
      "       sports       0.99      0.99      0.99       137\n",
      "   technology       0.97      0.96      0.96       270\n",
      "\n",
      "     accuracy                           0.97      1104\n",
      "    macro avg       0.98      0.98      0.98      1104\n",
      " weighted avg       0.97      0.97      0.97      1104\n",
      "\n",
      "Confusion Matrix:\n",
      " [[236   2   0   0   7]\n",
      " [  3 270   0   0   1]\n",
      " [  0   0 177   0   1]\n",
      " [  2   0   0 135   0]\n",
      " [ 10   1   0   1 258]]\n",
      "Accuracy: 0.9746376811594203\n",
      "--------------------------------------------------\n",
      "Model: Random Forest\n",
      "Classification Report:\n",
      "                precision    recall  f1-score   support\n",
      "\n",
      "     business       0.96      0.96      0.96       245\n",
      "    education       0.99      0.99      0.99       274\n",
      "entertainment       0.99      0.95      0.97       178\n",
      "       sports       0.96      0.96      0.96       137\n",
      "   technology       0.93      0.95      0.94       270\n",
      "\n",
      "     accuracy                           0.96      1104\n",
      "    macro avg       0.97      0.96      0.96      1104\n",
      " weighted avg       0.96      0.96      0.96      1104\n",
      "\n",
      "Confusion Matrix:\n",
      " [[235   1   0   0   9]\n",
      " [  0 272   0   1   1]\n",
      " [  0   1 169   1   7]\n",
      " [  2   0   0 132   3]\n",
      " [  7   2   2   3 256]]\n",
      "Accuracy: 0.9637681159420289\n",
      "--------------------------------------------------\n",
      "Model: Support Vector Classifier\n",
      "Classification Report:\n",
      "                precision    recall  f1-score   support\n",
      "\n",
      "     business       0.95      0.97      0.96       245\n",
      "    education       0.99      0.99      0.99       274\n",
      "entertainment       1.00      0.98      0.99       178\n",
      "       sports       0.98      0.99      0.98       137\n",
      "   technology       0.96      0.96      0.96       270\n",
      "\n",
      "     accuracy                           0.97      1104\n",
      "    macro avg       0.98      0.98      0.98      1104\n",
      " weighted avg       0.97      0.97      0.97      1104\n",
      "\n",
      "Confusion Matrix:\n",
      " [[237   1   0   0   7]\n",
      " [  1 270   0   0   3]\n",
      " [  0   0 175   2   1]\n",
      " [  2   0   0 135   0]\n",
      " [  9   1   0   1 259]]\n",
      "Accuracy: 0.9746376811594203\n",
      "--------------------------------------------------\n",
      "Model: Naive Bayes\n",
      "Classification Report:\n",
      "                precision    recall  f1-score   support\n",
      "\n",
      "     business       0.96      0.94      0.95       245\n",
      "    education       1.00      0.99      0.99       274\n",
      "entertainment       0.98      0.99      0.98       178\n",
      "       sports       0.97      0.97      0.97       137\n",
      "   technology       0.94      0.96      0.95       270\n",
      "\n",
      "     accuracy                           0.97      1104\n",
      "    macro avg       0.97      0.97      0.97      1104\n",
      " weighted avg       0.97      0.97      0.97      1104\n",
      "\n",
      "Confusion Matrix:\n",
      " [[230   0   1   0  14]\n",
      " [  2 271   1   0   0]\n",
      " [  0   0 176   1   1]\n",
      " [  1   0   2 133   1]\n",
      " [  6   1   0   3 260]]\n",
      "Accuracy: 0.9692028985507246\n",
      "--------------------------------------------------\n"
     ]
    }
   ],
   "source": [
    "# End any active MLflow run\n",
    "mlflow.end_run() \n",
    "\n",
    "# Train and evaluate each model inside MLflow tracking\n",
    "results = {}\n",
    "\n",
    "for model_name, model in models.items():\n",
    "    with mlflow.start_run(run_name=model_name, nested=True):  # Only use nested runs\n",
    "        # Train the model\n",
    "        model.fit(X_train_split, y_train_split)\n",
    "        \n",
    "        # Make predictions on the validation set\n",
    "        y_val_pred = model.predict(X_val_split)\n",
    "        \n",
    "        # Calculate accuracy and store results\n",
    "        accuracy = accuracy_score(y_val_split, y_val_pred)\n",
    "        results[model_name] = accuracy\n",
    "        \n",
    "        # Log the model and metrics to MLflow\n",
    "        mlflow.log_param(\"model_name\", model_name)\n",
    "        mlflow.log_metric(\"accuracy\", accuracy)\n",
    "        \n",
    "        # Print classification report and confusion matrix\n",
    "        print(f\"Model: {model_name}\")\n",
    "        print(\"Classification Report:\\n\", classification_report(y_val_split, y_val_pred))\n",
    "        print(\"Confusion Matrix:\\n\", confusion_matrix(y_val_split, y_val_pred))\n",
    "        print(\"Accuracy:\", accuracy)\n",
    "        print(\"-\" * 50)"
   ]
  },
  {
   "cell_type": "markdown",
   "id": "0c79be29",
   "metadata": {},
   "source": [
    "<h3 style=\"color:blue;\">SELECTING THE BEST MODEL</h3>"
   ]
  },
  {
   "cell_type": "code",
   "execution_count": 23,
   "id": "32cacfb8",
   "metadata": {},
   "outputs": [
    {
     "name": "stdout",
     "output_type": "stream",
     "text": [
      "Best Model: Logistic Regression\n"
     ]
    },
    {
     "name": "stderr",
     "output_type": "stream",
     "text": [
      "2025/05/05 11:18:12 WARNING mlflow.models.model: Model logged without a signature and input example. Please set `input_example` parameter when logging the model to auto infer the model signature.\n"
     ]
    },
    {
     "name": "stdout",
     "output_type": "stream",
     "text": [
      "Best model performance on test set:\n",
      "Accuracy: 0.975\n",
      "Classification Report:\n",
      "                precision    recall  f1-score   support\n",
      "\n",
      "     business       0.97      0.96      0.97       400\n",
      "    education       0.99      0.99      0.99       400\n",
      "entertainment       0.99      0.98      0.99       400\n",
      "       sports       0.98      0.98      0.98       400\n",
      "   technology       0.94      0.96      0.95       400\n",
      "\n",
      "     accuracy                           0.97      2000\n",
      "    macro avg       0.98      0.97      0.98      2000\n",
      " weighted avg       0.98      0.97      0.98      2000\n",
      "\n"
     ]
    }
   ],
   "source": [
    "#selecting the best model\n",
    "best_model = max(results, key=results.get)\n",
    "print(f\"Best Model: {best_model}\")\n",
    "\n",
    "# Train the best model on the entire training set\n",
    "best_model_instance = models[best_model]\n",
    "best_model_instance.fit(X_train, y_train)  \n",
    "\n",
    "# Save the best model to MLflow\n",
    "with mlflow.start_run():\n",
    "    mlflow.sklearn.log_model(best_model_instance, \"Best_model\")\n",
    "\n",
    "# Make predictions on the test set\n",
    "y_test_pred = best_model_instance.predict(X_test)\n",
    "\n",
    "# Evaluate the model on the test set\n",
    "accuracy_test = accuracy_score(y_test, y_test_pred)\n",
    "mlflow.log_metric(\"test_accuracy\", accuracy_test)\n",
    "report_test = classification_report(y_test, y_test_pred)    \n",
    "\n",
    "# Print the test set results\n",
    "print(\"Best model performance on test set:\")\n",
    "print(f\"Accuracy: {accuracy_test}\")\n",
    "print(\"Classification Report:\\n\", report_test)"
   ]
  },
  {
   "cell_type": "code",
   "execution_count": 24,
   "id": "b23a6331",
   "metadata": {},
   "outputs": [
    {
     "data": {
      "text/html": [
       "<div>\n",
       "<style scoped>\n",
       "    .dataframe tbody tr th:only-of-type {\n",
       "        vertical-align: middle;\n",
       "    }\n",
       "\n",
       "    .dataframe tbody tr th {\n",
       "        vertical-align: top;\n",
       "    }\n",
       "\n",
       "    .dataframe thead th {\n",
       "        text-align: right;\n",
       "    }\n",
       "</style>\n",
       "<table border=\"1\" class=\"dataframe\">\n",
       "  <thead>\n",
       "    <tr style=\"text-align: right;\">\n",
       "      <th></th>\n",
       "      <th>category</th>\n",
       "    </tr>\n",
       "  </thead>\n",
       "  <tbody>\n",
       "    <tr>\n",
       "      <th>0</th>\n",
       "      <td>business</td>\n",
       "    </tr>\n",
       "    <tr>\n",
       "      <th>1</th>\n",
       "      <td>education</td>\n",
       "    </tr>\n",
       "    <tr>\n",
       "      <th>2</th>\n",
       "      <td>entertainment</td>\n",
       "    </tr>\n",
       "    <tr>\n",
       "      <th>3</th>\n",
       "      <td>technology</td>\n",
       "    </tr>\n",
       "    <tr>\n",
       "      <th>4</th>\n",
       "      <td>business</td>\n",
       "    </tr>\n",
       "  </tbody>\n",
       "</table>\n",
       "</div>"
      ],
      "text/plain": [
       "        category\n",
       "0       business\n",
       "1      education\n",
       "2  entertainment\n",
       "3     technology\n",
       "4       business"
      ]
     },
     "metadata": {},
     "output_type": "display_data"
    }
   ],
   "source": [
    "# Save the model using joblib\n",
    "joblib.dump(best_model_instance, 'best_model.pkl')\n",
    "\n",
    "# Save the predictions to a CSV file\n",
    "predictions_df = pd.DataFrame({'category': y_test_pred})\n",
    "predictions_df.to_csv('predictions.csv', index=False)\n",
    "\n",
    "# Display the first few rows of the predictions DataFrame\n",
    "display(predictions_df.head())  "
   ]
  },
  {
   "cell_type": "code",
   "execution_count": 25,
   "id": "0674fb87",
   "metadata": {},
   "outputs": [
    {
     "data": {
      "image/png": "[encoded data removed]",
      "text/plain": [
       "<Figure size 1000x800 with 2 Axes>"
      ]
     },
     "metadata": {},
     "output_type": "display_data"
    }
   ],
   "source": [
    "#confusion matrix visualization\n",
    "\n",
    "# Create a confusion matrix\n",
    "cm = confusion_matrix(y_test, y_test_pred, labels=category_labels)\n",
    "\n",
    "# Plot the confusion matrix\n",
    "plt.figure(figsize=(10, 8))\n",
    "sns.heatmap(cm, annot=True, fmt='d', cmap='coolwarm', xticklabels=category_labels, yticklabels=category_labels)\n",
    "plt.xlabel('Predicted')\n",
    "plt.ylabel('True')\n",
    "plt.title('Confusion Matrix')\n",
    "plt.show()"
   ]
  },
  {
   "cell_type": "markdown",
   "id": "5def9ed5",
   "metadata": {},
   "source": [
    "This confusion matrix visually represents the performance of a classification model in categorizing various topics: business, sports, entertainment, education, and technology. The diagonal values show correct classifications, with Education having the greater correctly classified number and only 4 samples being incorrectly classified( one classified as business and 3 classified as technology)\n",
    "\n",
    "**solutions to misclassifications:**\n",
    "Our confusion matrix visualization suggest there is a confusion between certain categories, which may require better feature engineering or tuning of the model."
   ]
  },
  {
   "cell_type": "code",
   "execution_count": 26,
   "id": "43a36521",
   "metadata": {},
   "outputs": [],
   "source": [
    "# loading saved model and vectorizer and making predictions on new data\n",
    "loaded_model = joblib.load(\"best_model.pkl\")\n",
    "loaded_vectorizer = joblib.load(\"vectorizer.pkl\")\n",
    "\n",
    "def predict_category(headlines, description, content):\n",
    "    \"\"\"\n",
    "    Function to predict the category of a news article.\n",
    "    \"\"\"\n",
    "    headlines = format_data(headlines)\n",
    "    description = format_data(description)\n",
    "    content = format_data(content)\n",
    "\n",
    "    # Vectorize input\n",
    "    X_new = np.concatenate((\n",
    "        loaded_vectorizer.transform([headlines]).toarray(),\n",
    "        loaded_vectorizer.transform([description]).toarray(),\n",
    "        loaded_vectorizer.transform([content]).toarray()\n",
    "    ), axis=1)\n",
    "\n",
    "    return loaded_model.predict(X_new)[0]"
   ]
  },
  {
   "cell_type": "code",
   "execution_count": 27,
   "id": "4154bdea",
   "metadata": {},
   "outputs": [
    {
     "name": "stdout",
     "output_type": "stream",
     "text": [
      "^C\n"
     ]
    }
   ],
   "source": [
    "# Run MLflow UI to view the experiment results\n",
    "!mlflow ui "
   ]
  },
  {
   "cell_type": "markdown",
   "id": "a05af281-606b-47a0-b916-3277cd1c7992",
   "metadata": {},
   "source": [
    "<h3 style=\"color:blue;\">CONCLUSION AND INSIGHTS</h3>"
   ]
  },
  {
   "cell_type": "markdown",
   "id": "ecb3bd5b-ab4f-4c3b-99d6-cd17fb23a6f0",
   "metadata": {},
   "source": [
    "> To conclude, our team built a comprehensive news categorization pipeline, from preprocessing text to training multiple models and evaluating performance using MLflow. The key steps that were taken were: \n",
    "\n",
    "**1.** Data Preparation – Combined vectorized text features & split into training, validation, and test sets.\n",
    "\n",
    "**2.** Model Training & Evaluation – Trained Logistic Regression, Random Forest, Naïve Bayes, and SVM, logging accuracy & metrics in MLflow.\n",
    "\n",
    "**3.** Best Model Selection – Identified the best-performing model dynamically based on validation accuracy.\n",
    "\n",
    "**4.** Model Deployment – Saved the best model and vectorizer for future predictions using joblib.\n",
    "\n",
    "**5.** Results Tracking – MLflow logged parameters, accuracy, and confusion matrices, allowing comparison between models.\n",
    "\n",
    "**6.** Created a Prediction Function – Built a reusable function to classify new articles dynamically.\n",
    "\n",
    "**Results from MLflow:**\n",
    "The \"Test Accuracy\" showed that the best-performing model wasthe Logistic Regression model\n",
    ", which achieved strong accuracy, with performance tracked across all trained models.\n"
   ]
  }
 ],
 "metadata": {
  "kernelspec": {
   "display_name": "base",
   "language": "python",
   "name": "python3"
  },
  "language_info": {
   "codemirror_mode": {
    "name": "ipython",
    "version": 3
   },
   "file_extension": ".py",
   "mimetype": "text/x-python",
   "name": "python",
   "nbconvert_exporter": "python",
   "pygments_lexer": "ipython3",
   "version": "3.12.4"
  }
 },
 "nbformat": 4,
 "nbformat_minor": 5
}
