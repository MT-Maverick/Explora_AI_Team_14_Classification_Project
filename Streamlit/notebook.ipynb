{
  "cells": [
    {
      "cell_type": "markdown",
      "id": "40d42af3-0d36-4fed-ade8-5c189469bd8b",
      "metadata": {
        "id": "40d42af3-0d36-4fed-ade8-5c189469bd8b"
      },
      "source": [
        "<h1 style=\"color:black;\">Classification Project: Newspaper Articles</h1>"
      ]
    },
    {
      "cell_type": "markdown",
      "id": "a4d699a7-050f-498c-a58f-8b8917905cf1",
      "metadata": {
        "id": "a4d699a7-050f-498c-a58f-8b8917905cf1"
      },
      "source": [
        "<h3 style=\"color:blue;\">PROJECT OVERVIEW</h3>"
      ]
    },
    {
      "cell_type": "markdown",
      "id": "0c22ed09-70b7-47bd-b81d-483344afa3bb",
      "metadata": {
        "id": "0c22ed09-70b7-47bd-b81d-483344afa3bb"
      },
      "source": [
        ">The key goal of this classification project is for our team to develop machine learning models that can automatically classify newspaper articles. This project is an end-to-end project covering all stages, from loading and preprocessing data to training models, evaluating them, and deploying the solution as a web app using Streamlit."
      ]
    },
    {
      "cell_type": "markdown",
      "id": "a830a160-194a-47a3-b888-e76eda1ee776",
      "metadata": {
        "id": "a830a160-194a-47a3-b888-e76eda1ee776"
      },
      "source": [
        "<h3 style=\"color:blue;\">IMPORTING PACKAGES</h3>"
      ]
    },
    {
      "cell_type": "markdown",
      "id": "72bc717e-0601-441a-adcd-a96530c25810",
      "metadata": {
        "id": "72bc717e-0601-441a-adcd-a96530c25810"
      },
      "source": [
        "> This project will utilise the packages below to efficiently load, clean, analyse and visualise the newspaper article data. The packages are imported and necessary libraries are downloaded below:"
      ]
    },
    {
      "cell_type": "code",
      "execution_count": null,
      "id": "e73e73b6-d9d1-45a8-9aed-f1908111f145",
      "metadata": {
        "id": "e73e73b6-d9d1-45a8-9aed-f1908111f145"
      },
      "outputs": [],
      "source": [
        "# Importing Pandas for data manipulation and analysis\n",
        "import pandas as pd\n",
        "\n",
        "# Importing NumPy for numerical operations\n",
        "import numpy as np\n",
        "\n",
        "# Importing Matplotlib for data visualization\n",
        "import matplotlib.pyplot as plt\n",
        "\n",
        "# Importing Seaborn for advanced data visualization\n",
        "import seaborn as sns\n",
        "\n",
        "# Importing IPython.display for displaying rich media in Jupyter Notebooks\n",
        "from IPython.display import display, Image\n",
        "\n",
        "# Importing nltk for tokenization, lemmatization, and text preprocessing\n",
        "import nltk\n",
        "\n",
        "# Importing re for regular expressions to clean and manipulate text\n",
        "import re\n",
        "\n",
        "# Importing string for handling common string operations, such as removing punctuation\n",
        "import string\n",
        "\n",
        "# Importing nltk.corpus to improve text processing\n",
        "from nltk.corpus import  stopwords\n",
        "\n",
        "# Importing nltk.tokenize to split text into words or sentences for NLP tasks\n",
        "from nltk.tokenize import word_tokenize, TreebankWordTokenizer\n",
        "\n",
        "# Importing nltk.stem to converts words to their root forms, improving text understanding\n",
        "from nltk.stem import WordNetLemmatizer\n",
        "\n",
        "# Convert text to numerical vectors\n",
        "from sklearn.feature_extraction.text import TfidfVectorizer\n",
        "\n",
        "# Splitting data\n",
        "from sklearn.model_selection import train_test_split\n",
        "from sklearn.metrics import accuracy_score, f1_score, recall_score, precision_score\n"
      ]
    },
    {
      "cell_type": "code",
      "execution_count": null,
      "id": "344af896-aabd-4703-b9f7-7bcf0793d4b5",
      "metadata": {
        "colab": {
          "base_uri": "https://localhost:8080/"
        },
        "id": "344af896-aabd-4703-b9f7-7bcf0793d4b5",
        "outputId": "f5f78ec7-4727-4469-820b-70c7baa0570d"
      },
      "outputs": [
        {
          "output_type": "stream",
          "name": "stderr",
          "text": [
            "[nltk_data] Downloading package punkt to /root/nltk_data...\n",
            "[nltk_data]   Unzipping tokenizers/punkt.zip.\n",
            "[nltk_data] Downloading package punkt_tab to /root/nltk_data...\n",
            "[nltk_data]   Unzipping tokenizers/punkt_tab.zip.\n",
            "[nltk_data] Downloading package stopwords to /root/nltk_data...\n",
            "[nltk_data]   Unzipping corpora/stopwords.zip.\n",
            "[nltk_data] Downloading package wordnet to /root/nltk_data...\n"
          ]
        },
        {
          "output_type": "execute_result",
          "data": {
            "text/plain": [
              "True"
            ]
          },
          "metadata": {},
          "execution_count": 2
        }
      ],
      "source": [
        "nltk.download(['punkt','punkt_tab','stopwords','wordnet'])"
      ]
    },
    {
      "cell_type": "markdown",
      "id": "fd9ce86b-af85-49da-847b-af99ed6f0591",
      "metadata": {
        "id": "fd9ce86b-af85-49da-847b-af99ed6f0591"
      },
      "source": [
        "<h3 style=\"color:blue;\">DATA LOADING</h3>"
      ]
    },
    {
      "cell_type": "markdown",
      "id": "c086f70a-7ec8-4d82-a919-9e8b5dd101e1",
      "metadata": {
        "id": "c086f70a-7ec8-4d82-a919-9e8b5dd101e1"
      },
      "source": [
        "> When the required packages are imported, for loading a CSV file, this Project will utilise Pandas to load the data."
      ]
    },
    {
      "cell_type": "code",
      "execution_count": null,
      "id": "23b26a61-f885-4289-9b76-719e36939eb3",
      "metadata": {
        "id": "23b26a61-f885-4289-9b76-719e36939eb3"
      },
      "outputs": [],
      "source": [
        "# Load training and testing datasets\n",
        "train_df = pd.read_csv(\"https://raw.githubusercontent.com/Jana-Liebenberg/2401PTDS_Classification_Project/main/Data/processed/train.csv\", encoding=\"utf-8\")\n",
        "test_df = pd.read_csv(\"https://raw.githubusercontent.com/Jana-Liebenberg/2401PTDS_Classification_Project/main/Data/processed/test.csv\", encoding=\"utf-8\")\n"
      ]
    },
    {
      "cell_type": "code",
      "execution_count": null,
      "id": "dd1b96ba-8e6f-4b36-829d-682ca5591500",
      "metadata": {
        "colab": {
          "base_uri": "https://localhost:8080/",
          "height": 346
        },
        "id": "dd1b96ba-8e6f-4b36-829d-682ca5591500",
        "outputId": "0b64a784-f5ba-462c-e25e-c344731b9a2f"
      },
      "outputs": [
        {
          "output_type": "display_data",
          "data": {
            "text/plain": [
              "                                           headlines  \\\n",
              "0  RBI revises definition of politically-exposed ...   \n",
              "1  NDTV Q2 net profit falls 57.4% to Rs 5.55 cror...   \n",
              "\n",
              "                                         description  \\\n",
              "0  The central bank has also asked chairpersons a...   \n",
              "1  NDTV's consolidated revenue from operations wa...   \n",
              "\n",
              "                                             content  \\\n",
              "0  The Reserve Bank of India (RBI) has changed th...   \n",
              "1  Broadcaster New Delhi Television Ltd on Monday...   \n",
              "\n",
              "                                                 url  category  \n",
              "0  https://indianexpress.com/article/business/ban...  business  \n",
              "1  https://indianexpress.com/article/business/com...  business  "
            ],
            "text/html": [
              "\n",
              "  <div id=\"df-1939a66c-3551-43f8-978d-6d0508f93928\" class=\"colab-df-container\">\n",
              "    <div>\n",
              "<style scoped>\n",
              "    .dataframe tbody tr th:only-of-type {\n",
              "        vertical-align: middle;\n",
              "    }\n",
              "\n",
              "    .dataframe tbody tr th {\n",
              "        vertical-align: top;\n",
              "    }\n",
              "\n",
              "    .dataframe thead th {\n",
              "        text-align: right;\n",
              "    }\n",
              "</style>\n",
              "<table border=\"1\" class=\"dataframe\">\n",
              "  <thead>\n",
              "    <tr style=\"text-align: right;\">\n",
              "      <th></th>\n",
              "      <th>headlines</th>\n",
              "      <th>description</th>\n",
              "      <th>content</th>\n",
              "      <th>url</th>\n",
              "      <th>category</th>\n",
              "    </tr>\n",
              "  </thead>\n",
              "  <tbody>\n",
              "    <tr>\n",
              "      <th>0</th>\n",
              "      <td>RBI revises definition of politically-exposed ...</td>\n",
              "      <td>The central bank has also asked chairpersons a...</td>\n",
              "      <td>The Reserve Bank of India (RBI) has changed th...</td>\n",
              "      <td>https://indianexpress.com/article/business/ban...</td>\n",
              "      <td>business</td>\n",
              "    </tr>\n",
              "    <tr>\n",
              "      <th>1</th>\n",
              "      <td>NDTV Q2 net profit falls 57.4% to Rs 5.55 cror...</td>\n",
              "      <td>NDTV's consolidated revenue from operations wa...</td>\n",
              "      <td>Broadcaster New Delhi Television Ltd on Monday...</td>\n",
              "      <td>https://indianexpress.com/article/business/com...</td>\n",
              "      <td>business</td>\n",
              "    </tr>\n",
              "  </tbody>\n",
              "</table>\n",
              "</div>\n",
              "    <div class=\"colab-df-buttons\">\n",
              "\n",
              "  <div class=\"colab-df-container\">\n",
              "    <button class=\"colab-df-convert\" onclick=\"convertToInteractive('df-1939a66c-3551-43f8-978d-6d0508f93928')\"\n",
              "            title=\"Convert this dataframe to an interactive table.\"\n",
              "            style=\"display:none;\">\n",
              "\n",
              "  <svg xmlns=\"http://www.w3.org/2000/svg\" height=\"24px\" viewBox=\"0 -960 960 960\">\n",
              "    <path d=\"M120-120v-720h720v720H120Zm60-500h600v-160H180v160Zm220 220h160v-160H400v160Zm0 220h160v-160H400v160ZM180-400h160v-160H180v160Zm440 0h160v-160H620v160ZM180-180h160v-160H180v160Zm440 0h160v-160H620v160Z\"/>\n",
              "  </svg>\n",
              "    </button>\n",
              "\n",
              "  <style>\n",
              "    .colab-df-container {\n",
              "      display:flex;\n",
              "      gap: 12px;\n",
              "    }\n",
              "\n",
              "    .colab-df-convert {\n",
              "      background-color: #E8F0FE;\n",
              "      border: none;\n",
              "      border-radius: 50%;\n",
              "      cursor: pointer;\n",
              "      display: none;\n",
              "      fill: #1967D2;\n",
              "      height: 32px;\n",
              "      padding: 0 0 0 0;\n",
              "      width: 32px;\n",
              "    }\n",
              "\n",
              "    .colab-df-convert:hover {\n",
              "      background-color: #E2EBFA;\n",
              "      box-shadow: 0px 1px 2px rgba(60, 64, 67, 0.3), 0px 1px 3px 1px rgba(60, 64, 67, 0.15);\n",
              "      fill: #174EA6;\n",
              "    }\n",
              "\n",
              "    .colab-df-buttons div {\n",
              "      margin-bottom: 4px;\n",
              "    }\n",
              "\n",
              "    [theme=dark] .colab-df-convert {\n",
              "      background-color: #3B4455;\n",
              "      fill: #D2E3FC;\n",
              "    }\n",
              "\n",
              "    [theme=dark] .colab-df-convert:hover {\n",
              "      background-color: #434B5C;\n",
              "      box-shadow: 0px 1px 3px 1px rgba(0, 0, 0, 0.15);\n",
              "      filter: drop-shadow(0px 1px 2px rgba(0, 0, 0, 0.3));\n",
              "      fill: #FFFFFF;\n",
              "    }\n",
              "  </style>\n",
              "\n",
              "    <script>\n",
              "      const buttonEl =\n",
              "        document.querySelector('#df-1939a66c-3551-43f8-978d-6d0508f93928 button.colab-df-convert');\n",
              "      buttonEl.style.display =\n",
              "        google.colab.kernel.accessAllowed ? 'block' : 'none';\n",
              "\n",
              "      async function convertToInteractive(key) {\n",
              "        const element = document.querySelector('#df-1939a66c-3551-43f8-978d-6d0508f93928');\n",
              "        const dataTable =\n",
              "          await google.colab.kernel.invokeFunction('convertToInteractive',\n",
              "                                                    [key], {});\n",
              "        if (!dataTable) return;\n",
              "\n",
              "        const docLinkHtml = 'Like what you see? Visit the ' +\n",
              "          '<a target=\"_blank\" href=https://colab.research.google.com/notebooks/data_table.ipynb>data table notebook</a>'\n",
              "          + ' to learn more about interactive tables.';\n",
              "        element.innerHTML = '';\n",
              "        dataTable['output_type'] = 'display_data';\n",
              "        await google.colab.output.renderOutput(dataTable, element);\n",
              "        const docLink = document.createElement('div');\n",
              "        docLink.innerHTML = docLinkHtml;\n",
              "        element.appendChild(docLink);\n",
              "      }\n",
              "    </script>\n",
              "  </div>\n",
              "\n",
              "\n",
              "    <div id=\"df-cfd1bb01-44f3-4a16-bc1a-a8ae753b9b0a\">\n",
              "      <button class=\"colab-df-quickchart\" onclick=\"quickchart('df-cfd1bb01-44f3-4a16-bc1a-a8ae753b9b0a')\"\n",
              "                title=\"Suggest charts\"\n",
              "                style=\"display:none;\">\n",
              "\n",
              "<svg xmlns=\"http://www.w3.org/2000/svg\" height=\"24px\"viewBox=\"0 0 24 24\"\n",
              "     width=\"24px\">\n",
              "    <g>\n",
              "        <path d=\"M19 3H5c-1.1 0-2 .9-2 2v14c0 1.1.9 2 2 2h14c1.1 0 2-.9 2-2V5c0-1.1-.9-2-2-2zM9 17H7v-7h2v7zm4 0h-2V7h2v10zm4 0h-2v-4h2v4z\"/>\n",
              "    </g>\n",
              "</svg>\n",
              "      </button>\n",
              "\n",
              "<style>\n",
              "  .colab-df-quickchart {\n",
              "      --bg-color: #E8F0FE;\n",
              "      --fill-color: #1967D2;\n",
              "      --hover-bg-color: #E2EBFA;\n",
              "      --hover-fill-color: #174EA6;\n",
              "      --disabled-fill-color: #AAA;\n",
              "      --disabled-bg-color: #DDD;\n",
              "  }\n",
              "\n",
              "  [theme=dark] .colab-df-quickchart {\n",
              "      --bg-color: #3B4455;\n",
              "      --fill-color: #D2E3FC;\n",
              "      --hover-bg-color: #434B5C;\n",
              "      --hover-fill-color: #FFFFFF;\n",
              "      --disabled-bg-color: #3B4455;\n",
              "      --disabled-fill-color: #666;\n",
              "  }\n",
              "\n",
              "  .colab-df-quickchart {\n",
              "    background-color: var(--bg-color);\n",
              "    border: none;\n",
              "    border-radius: 50%;\n",
              "    cursor: pointer;\n",
              "    display: none;\n",
              "    fill: var(--fill-color);\n",
              "    height: 32px;\n",
              "    padding: 0;\n",
              "    width: 32px;\n",
              "  }\n",
              "\n",
              "  .colab-df-quickchart:hover {\n",
              "    background-color: var(--hover-bg-color);\n",
              "    box-shadow: 0 1px 2px rgba(60, 64, 67, 0.3), 0 1px 3px 1px rgba(60, 64, 67, 0.15);\n",
              "    fill: var(--button-hover-fill-color);\n",
              "  }\n",
              "\n",
              "  .colab-df-quickchart-complete:disabled,\n",
              "  .colab-df-quickchart-complete:disabled:hover {\n",
              "    background-color: var(--disabled-bg-color);\n",
              "    fill: var(--disabled-fill-color);\n",
              "    box-shadow: none;\n",
              "  }\n",
              "\n",
              "  .colab-df-spinner {\n",
              "    border: 2px solid var(--fill-color);\n",
              "    border-color: transparent;\n",
              "    border-bottom-color: var(--fill-color);\n",
              "    animation:\n",
              "      spin 1s steps(1) infinite;\n",
              "  }\n",
              "\n",
              "  @keyframes spin {\n",
              "    0% {\n",
              "      border-color: transparent;\n",
              "      border-bottom-color: var(--fill-color);\n",
              "      border-left-color: var(--fill-color);\n",
              "    }\n",
              "    20% {\n",
              "      border-color: transparent;\n",
              "      border-left-color: var(--fill-color);\n",
              "      border-top-color: var(--fill-color);\n",
              "    }\n",
              "    30% {\n",
              "      border-color: transparent;\n",
              "      border-left-color: var(--fill-color);\n",
              "      border-top-color: var(--fill-color);\n",
              "      border-right-color: var(--fill-color);\n",
              "    }\n",
              "    40% {\n",
              "      border-color: transparent;\n",
              "      border-right-color: var(--fill-color);\n",
              "      border-top-color: var(--fill-color);\n",
              "    }\n",
              "    60% {\n",
              "      border-color: transparent;\n",
              "      border-right-color: var(--fill-color);\n",
              "    }\n",
              "    80% {\n",
              "      border-color: transparent;\n",
              "      border-right-color: var(--fill-color);\n",
              "      border-bottom-color: var(--fill-color);\n",
              "    }\n",
              "    90% {\n",
              "      border-color: transparent;\n",
              "      border-bottom-color: var(--fill-color);\n",
              "    }\n",
              "  }\n",
              "</style>\n",
              "\n",
              "      <script>\n",
              "        async function quickchart(key) {\n",
              "          const quickchartButtonEl =\n",
              "            document.querySelector('#' + key + ' button');\n",
              "          quickchartButtonEl.disabled = true;  // To prevent multiple clicks.\n",
              "          quickchartButtonEl.classList.add('colab-df-spinner');\n",
              "          try {\n",
              "            const charts = await google.colab.kernel.invokeFunction(\n",
              "                'suggestCharts', [key], {});\n",
              "          } catch (error) {\n",
              "            console.error('Error during call to suggestCharts:', error);\n",
              "          }\n",
              "          quickchartButtonEl.classList.remove('colab-df-spinner');\n",
              "          quickchartButtonEl.classList.add('colab-df-quickchart-complete');\n",
              "        }\n",
              "        (() => {\n",
              "          let quickchartButtonEl =\n",
              "            document.querySelector('#df-cfd1bb01-44f3-4a16-bc1a-a8ae753b9b0a button');\n",
              "          quickchartButtonEl.style.display =\n",
              "            google.colab.kernel.accessAllowed ? 'block' : 'none';\n",
              "        })();\n",
              "      </script>\n",
              "    </div>\n",
              "\n",
              "    </div>\n",
              "  </div>\n"
            ],
            "application/vnd.google.colaboratory.intrinsic+json": {
              "type": "dataframe",
              "summary": "{\n  \"name\": \"display(test_df\",\n  \"rows\": 2,\n  \"fields\": [\n    {\n      \"column\": \"headlines\",\n      \"properties\": {\n        \"dtype\": \"string\",\n        \"num_unique_values\": 2,\n        \"samples\": [\n          \"NDTV Q2 net profit falls 57.4% to Rs 5.55 crore impacted by lower revenue and higher expenses\",\n          \"RBI revises definition of politically-exposed persons for KYC purpose\"\n        ],\n        \"semantic_type\": \"\",\n        \"description\": \"\"\n      }\n    },\n    {\n      \"column\": \"description\",\n      \"properties\": {\n        \"dtype\": \"string\",\n        \"num_unique_values\": 2,\n        \"samples\": [\n          \"NDTV's consolidated revenue from operations was Rs 95.55 crore as against Rs 105.8 crore in the year-ago period.\",\n          \"The central bank has also asked chairpersons and chief executives of banks and other financial services, which are into lending business, to make the changes effective immediately.\"\n        ],\n        \"semantic_type\": \"\",\n        \"description\": \"\"\n      }\n    },\n    {\n      \"column\": \"content\",\n      \"properties\": {\n        \"dtype\": \"string\",\n        \"num_unique_values\": 2,\n        \"samples\": [\n          \"Broadcaster New Delhi Television Ltd on Monday reported a 57.4 per cent decline in consolidated profit after tax at Rs 5.55 crore in the September quarter, impacted by lower revenue and higher expenses.\\nThe company had posted a consolidated net profit of Rs 13.03 crore in the same quarter last fiscal, New Delhi Television Ltd (NDTV) said in a regulatory filing.\\nConsolidated revenue from operations was Rs 95.55 crore as against Rs 105.8 crore in the year-ago period, it added.\\nADVERTISEMENT\\nTotal expenses were higher at Rs 93.48 crore as compared to Rs 91.93 crore a year ago, the company said.\\nIn the second quarter, there was a slight bullishness in advertisement spend despite the muted economic environment, it added.\\nNDTV said it launched two regional channels \\u2018NDTV Madhya Pradesh/Chhattisgarh\\u2019 and \\u2018NDTV Rajasthan\\u2019 in the second quarter (Q2).\\n\\u201cWith its focus on expansion and growth, NDTV expects to launch more regional channels in the near future,\\u201d the company said.\",\n          \"The Reserve Bank of India (RBI) has changed the definition of Politically-Exposed Persons (PEPs) under its norms, a move that will make it easier for those individuals to carry out various banking transactions, including availing loans.\\nCertain changes have been made in the RBI\\u2019s Know Your Customer (KYC) norms.\\nThe earlier norms pertaining to PEPs were open-ended and there was a lack of clarity on the definition, apparently leading to issues for bankers, parliamentarians and others. There were also concerns in certain quarters that PEPs were finding it difficult to get loans or open bank accounts.\\nADVERTISEMENT\\nIn the amended KYC master direction, the central bank defines PEPs as \\u201cindividuals who are or have been entrusted with prominent public functions by a foreign country, including the heads of states/governments, senior politicians, senior government or judicial or military officers, senior executives of state-owned corporations and important political party officials\\u201d. The new rules also include a person who is entrusted by a foreign country with a public function.\\nBank accounts of PEPs have additional KYC norms under the current provisions and special due diligence has to be undertaken by a senior bank official. A sub-clause in the master direction in KYC norms issued by way of a circular on February 25, 2016 has been removed by the central bank.\\nThe central bank has also asked chairpersons and chief executives of banks and other financial services, which are into lending business, to make the changes effective immediately.\\nLast year, the Centre amended the Prevention of Money Laundering Act (PMLA) to introduce more disclosures for non-government organisations by reporting entities.\"\n        ],\n        \"semantic_type\": \"\",\n        \"description\": \"\"\n      }\n    },\n    {\n      \"column\": \"url\",\n      \"properties\": {\n        \"dtype\": \"string\",\n        \"num_unique_values\": 2,\n        \"samples\": [\n          \"https://indianexpress.com/article/business/companies/ndtv-q2-net-profit-falls-lower-revenue-higher-expenses-8996212/\",\n          \"https://indianexpress.com/article/business/banking-and-finance/rbi-revises-politically-exposed-persons-kyc-9096600/\"\n        ],\n        \"semantic_type\": \"\",\n        \"description\": \"\"\n      }\n    },\n    {\n      \"column\": \"category\",\n      \"properties\": {\n        \"dtype\": \"string\",\n        \"num_unique_values\": 1,\n        \"samples\": [\n          \"business\"\n        ],\n        \"semantic_type\": \"\",\n        \"description\": \"\"\n      }\n    }\n  ]\n}"
            }
          },
          "metadata": {}
        },
        {
          "output_type": "display_data",
          "data": {
            "text/plain": [
              "                                           headlines  \\\n",
              "0  NLC India wins contract for power supply to Ra...   \n",
              "1  SBI Clerk prelims exams dates announced; admit...   \n",
              "\n",
              "                                         description  \\\n",
              "0  State-owned firm NLC India Ltd (NLCIL) on Mond...   \n",
              "1  SBI Clerk Prelims Exam: The SBI Clerk prelims ...   \n",
              "\n",
              "                                             content  \\\n",
              "0  State-owned firm NLC India Ltd (NLCIL) on Mond...   \n",
              "1  SBI Clerk Prelims Exam: The State Bank of Indi...   \n",
              "\n",
              "                                                 url   category  \n",
              "0  https://indianexpress.com/article/business/com...   business  \n",
              "1  https://indianexpress.com/article/education/sb...  education  "
            ],
            "text/html": [
              "\n",
              "  <div id=\"df-d24360bf-b46f-4c53-8d63-a67832759da0\" class=\"colab-df-container\">\n",
              "    <div>\n",
              "<style scoped>\n",
              "    .dataframe tbody tr th:only-of-type {\n",
              "        vertical-align: middle;\n",
              "    }\n",
              "\n",
              "    .dataframe tbody tr th {\n",
              "        vertical-align: top;\n",
              "    }\n",
              "\n",
              "    .dataframe thead th {\n",
              "        text-align: right;\n",
              "    }\n",
              "</style>\n",
              "<table border=\"1\" class=\"dataframe\">\n",
              "  <thead>\n",
              "    <tr style=\"text-align: right;\">\n",
              "      <th></th>\n",
              "      <th>headlines</th>\n",
              "      <th>description</th>\n",
              "      <th>content</th>\n",
              "      <th>url</th>\n",
              "      <th>category</th>\n",
              "    </tr>\n",
              "  </thead>\n",
              "  <tbody>\n",
              "    <tr>\n",
              "      <th>0</th>\n",
              "      <td>NLC India wins contract for power supply to Ra...</td>\n",
              "      <td>State-owned firm NLC India Ltd (NLCIL) on Mond...</td>\n",
              "      <td>State-owned firm NLC India Ltd (NLCIL) on Mond...</td>\n",
              "      <td>https://indianexpress.com/article/business/com...</td>\n",
              "      <td>business</td>\n",
              "    </tr>\n",
              "    <tr>\n",
              "      <th>1</th>\n",
              "      <td>SBI Clerk prelims exams dates announced; admit...</td>\n",
              "      <td>SBI Clerk Prelims Exam: The SBI Clerk prelims ...</td>\n",
              "      <td>SBI Clerk Prelims Exam: The State Bank of Indi...</td>\n",
              "      <td>https://indianexpress.com/article/education/sb...</td>\n",
              "      <td>education</td>\n",
              "    </tr>\n",
              "  </tbody>\n",
              "</table>\n",
              "</div>\n",
              "    <div class=\"colab-df-buttons\">\n",
              "\n",
              "  <div class=\"colab-df-container\">\n",
              "    <button class=\"colab-df-convert\" onclick=\"convertToInteractive('df-d24360bf-b46f-4c53-8d63-a67832759da0')\"\n",
              "            title=\"Convert this dataframe to an interactive table.\"\n",
              "            style=\"display:none;\">\n",
              "\n",
              "  <svg xmlns=\"http://www.w3.org/2000/svg\" height=\"24px\" viewBox=\"0 -960 960 960\">\n",
              "    <path d=\"M120-120v-720h720v720H120Zm60-500h600v-160H180v160Zm220 220h160v-160H400v160Zm0 220h160v-160H400v160ZM180-400h160v-160H180v160Zm440 0h160v-160H620v160ZM180-180h160v-160H180v160Zm440 0h160v-160H620v160Z\"/>\n",
              "  </svg>\n",
              "    </button>\n",
              "\n",
              "  <style>\n",
              "    .colab-df-container {\n",
              "      display:flex;\n",
              "      gap: 12px;\n",
              "    }\n",
              "\n",
              "    .colab-df-convert {\n",
              "      background-color: #E8F0FE;\n",
              "      border: none;\n",
              "      border-radius: 50%;\n",
              "      cursor: pointer;\n",
              "      display: none;\n",
              "      fill: #1967D2;\n",
              "      height: 32px;\n",
              "      padding: 0 0 0 0;\n",
              "      width: 32px;\n",
              "    }\n",
              "\n",
              "    .colab-df-convert:hover {\n",
              "      background-color: #E2EBFA;\n",
              "      box-shadow: 0px 1px 2px rgba(60, 64, 67, 0.3), 0px 1px 3px 1px rgba(60, 64, 67, 0.15);\n",
              "      fill: #174EA6;\n",
              "    }\n",
              "\n",
              "    .colab-df-buttons div {\n",
              "      margin-bottom: 4px;\n",
              "    }\n",
              "\n",
              "    [theme=dark] .colab-df-convert {\n",
              "      background-color: #3B4455;\n",
              "      fill: #D2E3FC;\n",
              "    }\n",
              "\n",
              "    [theme=dark] .colab-df-convert:hover {\n",
              "      background-color: #434B5C;\n",
              "      box-shadow: 0px 1px 3px 1px rgba(0, 0, 0, 0.15);\n",
              "      filter: drop-shadow(0px 1px 2px rgba(0, 0, 0, 0.3));\n",
              "      fill: #FFFFFF;\n",
              "    }\n",
              "  </style>\n",
              "\n",
              "    <script>\n",
              "      const buttonEl =\n",
              "        document.querySelector('#df-d24360bf-b46f-4c53-8d63-a67832759da0 button.colab-df-convert');\n",
              "      buttonEl.style.display =\n",
              "        google.colab.kernel.accessAllowed ? 'block' : 'none';\n",
              "\n",
              "      async function convertToInteractive(key) {\n",
              "        const element = document.querySelector('#df-d24360bf-b46f-4c53-8d63-a67832759da0');\n",
              "        const dataTable =\n",
              "          await google.colab.kernel.invokeFunction('convertToInteractive',\n",
              "                                                    [key], {});\n",
              "        if (!dataTable) return;\n",
              "\n",
              "        const docLinkHtml = 'Like what you see? Visit the ' +\n",
              "          '<a target=\"_blank\" href=https://colab.research.google.com/notebooks/data_table.ipynb>data table notebook</a>'\n",
              "          + ' to learn more about interactive tables.';\n",
              "        element.innerHTML = '';\n",
              "        dataTable['output_type'] = 'display_data';\n",
              "        await google.colab.output.renderOutput(dataTable, element);\n",
              "        const docLink = document.createElement('div');\n",
              "        docLink.innerHTML = docLinkHtml;\n",
              "        element.appendChild(docLink);\n",
              "      }\n",
              "    </script>\n",
              "  </div>\n",
              "\n",
              "\n",
              "    <div id=\"df-e73d0dae-b53a-446a-bb2f-272c41ab9a02\">\n",
              "      <button class=\"colab-df-quickchart\" onclick=\"quickchart('df-e73d0dae-b53a-446a-bb2f-272c41ab9a02')\"\n",
              "                title=\"Suggest charts\"\n",
              "                style=\"display:none;\">\n",
              "\n",
              "<svg xmlns=\"http://www.w3.org/2000/svg\" height=\"24px\"viewBox=\"0 0 24 24\"\n",
              "     width=\"24px\">\n",
              "    <g>\n",
              "        <path d=\"M19 3H5c-1.1 0-2 .9-2 2v14c0 1.1.9 2 2 2h14c1.1 0 2-.9 2-2V5c0-1.1-.9-2-2-2zM9 17H7v-7h2v7zm4 0h-2V7h2v10zm4 0h-2v-4h2v4z\"/>\n",
              "    </g>\n",
              "</svg>\n",
              "      </button>\n",
              "\n",
              "<style>\n",
              "  .colab-df-quickchart {\n",
              "      --bg-color: #E8F0FE;\n",
              "      --fill-color: #1967D2;\n",
              "      --hover-bg-color: #E2EBFA;\n",
              "      --hover-fill-color: #174EA6;\n",
              "      --disabled-fill-color: #AAA;\n",
              "      --disabled-bg-color: #DDD;\n",
              "  }\n",
              "\n",
              "  [theme=dark] .colab-df-quickchart {\n",
              "      --bg-color: #3B4455;\n",
              "      --fill-color: #D2E3FC;\n",
              "      --hover-bg-color: #434B5C;\n",
              "      --hover-fill-color: #FFFFFF;\n",
              "      --disabled-bg-color: #3B4455;\n",
              "      --disabled-fill-color: #666;\n",
              "  }\n",
              "\n",
              "  .colab-df-quickchart {\n",
              "    background-color: var(--bg-color);\n",
              "    border: none;\n",
              "    border-radius: 50%;\n",
              "    cursor: pointer;\n",
              "    display: none;\n",
              "    fill: var(--fill-color);\n",
              "    height: 32px;\n",
              "    padding: 0;\n",
              "    width: 32px;\n",
              "  }\n",
              "\n",
              "  .colab-df-quickchart:hover {\n",
              "    background-color: var(--hover-bg-color);\n",
              "    box-shadow: 0 1px 2px rgba(60, 64, 67, 0.3), 0 1px 3px 1px rgba(60, 64, 67, 0.15);\n",
              "    fill: var(--button-hover-fill-color);\n",
              "  }\n",
              "\n",
              "  .colab-df-quickchart-complete:disabled,\n",
              "  .colab-df-quickchart-complete:disabled:hover {\n",
              "    background-color: var(--disabled-bg-color);\n",
              "    fill: var(--disabled-fill-color);\n",
              "    box-shadow: none;\n",
              "  }\n",
              "\n",
              "  .colab-df-spinner {\n",
              "    border: 2px solid var(--fill-color);\n",
              "    border-color: transparent;\n",
              "    border-bottom-color: var(--fill-color);\n",
              "    animation:\n",
              "      spin 1s steps(1) infinite;\n",
              "  }\n",
              "\n",
              "  @keyframes spin {\n",
              "    0% {\n",
              "      border-color: transparent;\n",
              "      border-bottom-color: var(--fill-color);\n",
              "      border-left-color: var(--fill-color);\n",
              "    }\n",
              "    20% {\n",
              "      border-color: transparent;\n",
              "      border-left-color: var(--fill-color);\n",
              "      border-top-color: var(--fill-color);\n",
              "    }\n",
              "    30% {\n",
              "      border-color: transparent;\n",
              "      border-left-color: var(--fill-color);\n",
              "      border-top-color: var(--fill-color);\n",
              "      border-right-color: var(--fill-color);\n",
              "    }\n",
              "    40% {\n",
              "      border-color: transparent;\n",
              "      border-right-color: var(--fill-color);\n",
              "      border-top-color: var(--fill-color);\n",
              "    }\n",
              "    60% {\n",
              "      border-color: transparent;\n",
              "      border-right-color: var(--fill-color);\n",
              "    }\n",
              "    80% {\n",
              "      border-color: transparent;\n",
              "      border-right-color: var(--fill-color);\n",
              "      border-bottom-color: var(--fill-color);\n",
              "    }\n",
              "    90% {\n",
              "      border-color: transparent;\n",
              "      border-bottom-color: var(--fill-color);\n",
              "    }\n",
              "  }\n",
              "</style>\n",
              "\n",
              "      <script>\n",
              "        async function quickchart(key) {\n",
              "          const quickchartButtonEl =\n",
              "            document.querySelector('#' + key + ' button');\n",
              "          quickchartButtonEl.disabled = true;  // To prevent multiple clicks.\n",
              "          quickchartButtonEl.classList.add('colab-df-spinner');\n",
              "          try {\n",
              "            const charts = await google.colab.kernel.invokeFunction(\n",
              "                'suggestCharts', [key], {});\n",
              "          } catch (error) {\n",
              "            console.error('Error during call to suggestCharts:', error);\n",
              "          }\n",
              "          quickchartButtonEl.classList.remove('colab-df-spinner');\n",
              "          quickchartButtonEl.classList.add('colab-df-quickchart-complete');\n",
              "        }\n",
              "        (() => {\n",
              "          let quickchartButtonEl =\n",
              "            document.querySelector('#df-e73d0dae-b53a-446a-bb2f-272c41ab9a02 button');\n",
              "          quickchartButtonEl.style.display =\n",
              "            google.colab.kernel.accessAllowed ? 'block' : 'none';\n",
              "        })();\n",
              "      </script>\n",
              "    </div>\n",
              "\n",
              "    </div>\n",
              "  </div>\n"
            ],
            "application/vnd.google.colaboratory.intrinsic+json": {
              "type": "dataframe",
              "summary": "{\n  \"name\": \"display(test_df\",\n  \"rows\": 2,\n  \"fields\": [\n    {\n      \"column\": \"headlines\",\n      \"properties\": {\n        \"dtype\": \"string\",\n        \"num_unique_values\": 2,\n        \"samples\": [\n          \"SBI Clerk prelims exams dates announced; admit card from December 27 at sbi.co.in\",\n          \"NLC India wins contract for power supply to Rajasthan at Rs 2.64 per unit\"\n        ],\n        \"semantic_type\": \"\",\n        \"description\": \"\"\n      }\n    },\n    {\n      \"column\": \"description\",\n      \"properties\": {\n        \"dtype\": \"string\",\n        \"num_unique_values\": 2,\n        \"samples\": [\n          \"SBI Clerk Prelims Exam: The SBI Clerk prelims exam 2024 will be tentatively held on January 5, 6, 11 and 12. The schedule was released at the official SBI website -- sbi.co.in.\",\n          \"State-owned firm NLC India Ltd (NLCIL) on Monday said it has emerged as the successful bidder for supply of power to Rajasthan at a tariff of Rs 2.64 per unit.\"\n        ],\n        \"semantic_type\": \"\",\n        \"description\": \"\"\n      }\n    },\n    {\n      \"column\": \"content\",\n      \"properties\": {\n        \"dtype\": \"string\",\n        \"num_unique_values\": 2,\n        \"samples\": [\n          \"SBI Clerk Prelims Exam: The State Bank of Indian (SBI) has announced the exam dates for the junior associate preliminary exams. The schedule was released at the official SBI website \\u2014 sbi.co.in.\\nAccording to the official schedule, the SBI Clerk prelims exam 2024 will be tentatively held on January 5, 6, 11 and 12. For these exams, the admit card will be released on December 27.\\nYou have exhausted your monthly limit of free stories.\\nRegister to read more stories\\nContinue With:-\\nGoogle\\nFacebook\\nEmail\\nAlready have an account? Sign in\",\n          \"State-owned firm NLC India Ltd (NLCIL) on Monday said it has emerged as the successful bidder for supply of power to Rajasthan at a tariff of Rs 2.64 per unit.\\nNLCIL is a navratna company under the coal ministry.\\n\\u201cNLCIL has been successful bidder for the total capacity of 810 MW for tariff of Rs 2.64 per unit,\\u201d NLCIL said in a filing to BSE.\\nA letter of intent for the same was issued by RRVUNL.\\nADVERTISEMENT\\nThe company had participated in a tender floated by Rajasthan Rajya Vidyut Utpadan Nigam Limited (RRVUNL) for procurement of power from 810 MW Grid Connected Solar photovoltaic power projects to be set up in 2,000 MW Pugal Solar Park in Bikaner, Rajasthan.\\nNLC India currently has an installed renewable energy (RE) capacity of 1,431.06 MW, while 2,110 MW of RE project is in the pipeline.\\nThe company proposes to develop RE capacity of 6,031 MW as per its corporate plan 2030.\\nThis project will offset carbon emissions to the tune of 46,628.56 tonnes considering lifetime electricity generation of approximately 48,170.00 million units.\\nNLC\\u2019s core business is mining and power generation.\"\n        ],\n        \"semantic_type\": \"\",\n        \"description\": \"\"\n      }\n    },\n    {\n      \"column\": \"url\",\n      \"properties\": {\n        \"dtype\": \"string\",\n        \"num_unique_values\": 2,\n        \"samples\": [\n          \"https://indianexpress.com/article/education/sbi-clerk-prelims-exams-schedule-admit-card-dec-27-sbi-co-in-9080898/\",\n          \"https://indianexpress.com/article/business/companies/nlc-india-wins-contract-power-supply-rajasthan-8974456/\"\n        ],\n        \"semantic_type\": \"\",\n        \"description\": \"\"\n      }\n    },\n    {\n      \"column\": \"category\",\n      \"properties\": {\n        \"dtype\": \"string\",\n        \"num_unique_values\": 2,\n        \"samples\": [\n          \"education\",\n          \"business\"\n        ],\n        \"semantic_type\": \"\",\n        \"description\": \"\"\n      }\n    }\n  ]\n}"
            }
          },
          "metadata": {}
        }
      ],
      "source": [
        "# Display first few rows of the Dataframes as tables\n",
        "display(train_df.head(2))\n",
        "display(test_df.head(2))\n"
      ]
    },
    {
      "cell_type": "markdown",
      "id": "39df45e6-3e02-4ffe-9ad8-c52f018c2b99",
      "metadata": {
        "id": "39df45e6-3e02-4ffe-9ad8-c52f018c2b99"
      },
      "source": [
        "<h3 style=\"color:blue;\">DATA CLEANING AND TEXT PREPROCESSING</h3>\n"
      ]
    },
    {
      "cell_type": "markdown",
      "id": "599b9afc-199a-45c6-8f7d-45ebb2c44a74",
      "metadata": {
        "id": "599b9afc-199a-45c6-8f7d-45ebb2c44a74"
      },
      "source": [
        "> Text cleaning is essential for improving model accuracy. We'll look into standardizing text by converting everything to lowercase, removing punctuation and special characters, splitting text into individual words for further processing and removing common words that don't add much meaning."
      ]
    },
    {
      "cell_type": "markdown",
      "id": "773bd76a-4efd-42e8-8481-716a2165ed82",
      "metadata": {
        "id": "773bd76a-4efd-42e8-8481-716a2165ed82"
      },
      "source": [
        "Let's start by printing a list of all categories that are present in this dataset"
      ]
    },
    {
      "cell_type": "code",
      "execution_count": null,
      "id": "5c2cdca8-7aee-4155-bb44-2a785573ab2e",
      "metadata": {
        "colab": {
          "base_uri": "https://localhost:8080/"
        },
        "id": "5c2cdca8-7aee-4155-bb44-2a785573ab2e",
        "outputId": "7a2dd913-ebd5-42b5-96a0-463da2d64eb5"
      },
      "outputs": [
        {
          "output_type": "stream",
          "name": "stdout",
          "text": [
            "['business', 'sports', 'entertainment', 'education', 'technology']\n"
          ]
        }
      ],
      "source": [
        "# Print list of unique newspaper categories\n",
        "category_labels = list(train_df.category.unique())\n",
        "print(category_labels)"
      ]
    },
    {
      "cell_type": "code",
      "execution_count": null,
      "id": "f0597312-d23f-499c-8e28-93b58cee11a4",
      "metadata": {
        "colab": {
          "base_uri": "https://localhost:8080/",
          "height": 558
        },
        "id": "f0597312-d23f-499c-8e28-93b58cee11a4",
        "outputId": "ea94fcb6-df9d-4147-a7eb-dc3a35015679"
      },
      "outputs": [
        {
          "output_type": "display_data",
          "data": {
            "text/plain": [
              "<Figure size 640x480 with 1 Axes>"
            ],
            "image/png": "[encoded data removed]"
          },
          "metadata": {}
        }
      ],
      "source": [
        "# Define a color palette\n",
        "colors = sns.color_palette('husl', len(train_df['category'].value_counts()))\n",
        "\n",
        "# Visualize the distribution of the categories with colored bars\n",
        "train_df['category'].value_counts().plot(kind='bar', color=colors)\n",
        "plt.xlabel('Category')\n",
        "plt.ylabel('Count')\n",
        "plt.title('Distribution of Category Labels')\n",
        "plt.show()\n"
      ]
    },
    {
      "cell_type": "code",
      "execution_count": null,
      "id": "d8a9b578-b9ff-41e6-a8cb-176a3815b0be",
      "metadata": {
        "colab": {
          "base_uri": "https://localhost:8080/"
        },
        "id": "d8a9b578-b9ff-41e6-a8cb-176a3815b0be",
        "outputId": "94df70a5-6773-48b7-bfde-18bb8653a4ab"
      },
      "outputs": [
        {
          "output_type": "execute_result",
          "data": {
            "text/plain": [
              "(2000, 5)"
            ]
          },
          "metadata": {},
          "execution_count": 7
        }
      ],
      "source": [
        "# Shape of the dataset\n",
        "train_df.shape\n",
        "test_df.shape"
      ]
    },
    {
      "cell_type": "code",
      "execution_count": null,
      "id": "8d8b7a2e-1512-472b-886e-40e36e2d71d5",
      "metadata": {
        "colab": {
          "base_uri": "https://localhost:8080/"
        },
        "id": "8d8b7a2e-1512-472b-886e-40e36e2d71d5",
        "outputId": "f03cabb5-3f27-4653-81de-46620df05f31"
      },
      "outputs": [
        {
          "output_type": "stream",
          "name": "stdout",
          "text": [
            "Missing values in dataset:\n",
            " headlines      0\n",
            "description    0\n",
            "content        0\n",
            "url            0\n",
            "category       0\n",
            "dtype: int64\n",
            "Missing values in dataset:\n",
            " headlines      0\n",
            "description    0\n",
            "content        0\n",
            "url            0\n",
            "category       0\n",
            "dtype: int64\n"
          ]
        }
      ],
      "source": [
        "# Check for missing values\n",
        "print(\"Missing values in dataset:\\n\", train_df.isnull().sum())\n",
        "print(\"Missing values in dataset:\\n\", test_df.isnull().sum())"
      ]
    },
    {
      "cell_type": "markdown",
      "id": "4a4df036-ea5e-4e65-b911-7db0ca3837f9",
      "metadata": {
        "id": "4a4df036-ea5e-4e65-b911-7db0ca3837f9"
      },
      "source": [
        "There was no need to handle missing values as there were none"
      ]
    },
    {
      "cell_type": "code",
      "execution_count": null,
      "id": "a568052e-f838-4074-bab2-076aa2577af0",
      "metadata": {
        "colab": {
          "base_uri": "https://localhost:8080/"
        },
        "id": "a568052e-f838-4074-bab2-076aa2577af0",
        "outputId": "0933108c-e834-4744-9035-028388a0b9b5"
      },
      "outputs": [
        {
          "output_type": "stream",
          "name": "stdout",
          "text": [
            "No duplicates found in the dataset.\n"
          ]
        }
      ],
      "source": [
        "# Check and remove duplicates\n",
        "train_df.drop_duplicates(inplace=True)\n",
        "test_df.drop_duplicates(inplace=True)\n",
        "\n",
        "if train_df.duplicated().any():\n",
        "    print(\"Duplicates are present in the dataset.\")\n",
        "else:\n",
        "    print(\"No duplicates found in the dataset.\")\n",
        "\n",
        "if test_df.duplicated().any():\n",
        "    print(\"Duplicates are present in the dataset.\")"
      ]
    },
    {
      "cell_type": "code",
      "execution_count": null,
      "id": "f4712212-47e3-4d3e-974c-121060f5a69c",
      "metadata": {
        "id": "f4712212-47e3-4d3e-974c-121060f5a69c"
      },
      "outputs": [],
      "source": [
        "# Define a function to preprocess text data\n",
        "def format_data (text):\n",
        "    \"\"\"\n",
        "    Function to clean text:\n",
        "    - Convert to lowercase\n",
        "    - Replace URLs with a placeholder\n",
        "    - Remove HTML tags\n",
        "    - Remove punctuation and numbers\n",
        "    - Tokenize and remove stopwords\n",
        "    - Lemmatize words\n",
        "    \"\"\"\n",
        "    if isinstance(text, str):\n",
        "        text = text.lower()  # Convert to lowercase\n",
        "\n",
        "        # Replace URLs with placeholder\n",
        "        text = re.sub(r'http\\S+|www\\S+|https\\S+', 'url-web', text, flags=re.MULTILINE)\n",
        "\n",
        "        # Remove HTML tags\n",
        "        text = re.sub(r'<.*?>', '', text)\n",
        "\n",
        "        # Remove punctuation and numbers\n",
        "        text = text.translate(str.maketrans('', '', string.punctuation + '0123456789'))\n",
        "\n",
        "        # Tokenize the text\n",
        "        tokens = word_tokenize(text)\n",
        "\n",
        "        # Remove stopwords\n",
        "        tokens = [word for word in tokens if word not in stopwords.words('english')]\n",
        "\n",
        "        # Lemmatize words\n",
        "        lemmatizer = WordNetLemmatizer()\n",
        "        tokens = [lemmatizer.lemmatize(word) for word in tokens]\n",
        "\n",
        "        return ' '.join(tokens)\n",
        "\n",
        "    return \"\"  # Handle missing or invalid data\n"
      ]
    },
    {
      "cell_type": "code",
      "execution_count": null,
      "id": "3238d931-6132-424c-9c66-3d81c2df0298",
      "metadata": {
        "colab": {
          "base_uri": "https://localhost:8080/"
        },
        "id": "3238d931-6132-424c-9c66-3d81c2df0298",
        "outputId": "e4b1fd4b-ac09-47f7-f5c8-1c6238f5d71b"
      },
      "outputs": [
        {
          "output_type": "stream",
          "name": "stdout",
          "text": [
            "                                           headlines  \\\n",
            "0  rbi revise definition politicallyexposed perso...   \n",
            "1  ndtv q net profit fall r crore impacted lower ...   \n",
            "2  akasa air ‘ well capitalised ’ grow much faste...   \n",
            "3  india ’ current account deficit decline sharpl...   \n",
            "4       state borrowing cost soar highest far fiscal   \n",
            "\n",
            "                                         description  \\\n",
            "0  central bank also asked chairperson chief exec...   \n",
            "1  ndtvs consolidated revenue operation r crore r...   \n",
            "2  initial share sale open public subscription ju...   \n",
            "3  current account deficit cad per cent gdp usd b...   \n",
            "4  price shot reflecting overall higher risk aver...   \n",
            "\n",
            "                                             content  \n",
            "0  reserve bank india rbi changed definition poli...  \n",
            "1  broadcaster new delhi television ltd monday re...  \n",
            "2  homegrown server maker netweb technology india...  \n",
            "3  india ’ current account deficit declined sharp...  \n",
            "4  state forced pay nose weekly auction debt tues...  \n"
          ]
        }
      ],
      "source": [
        "# Apply the function to each column in the training dataset\n",
        "train_df[\"headlines\"] = train_df[\"headlines\"].apply(format_data)\n",
        "train_df[\"description\"] = train_df[\"description\"].apply(format_data)\n",
        "train_df[\"content\"] = train_df[\"content\"].apply(format_data)\n",
        "\n",
        "# Preview the preprocessed data\n",
        "print(train_df[[\"headlines\", \"description\", \"content\"]].head())"
      ]
    },
    {
      "cell_type": "code",
      "execution_count": null,
      "id": "d4cfdc97",
      "metadata": {
        "colab": {
          "base_uri": "https://localhost:8080/"
        },
        "id": "d4cfdc97",
        "outputId": "ed441f36-9981-48c8-d236-054cafa2f3ed"
      },
      "outputs": [
        {
          "output_type": "stream",
          "name": "stdout",
          "text": [
            "                                           headlines  \\\n",
            "0  nlc india win contract power supply rajasthan ...   \n",
            "1  sbi clerk prelim exam date announced admit car...   \n",
            "2  golden globe michelle yeoh ferrell angela bass...   \n",
            "3                oneplus nord r part new price cut ’   \n",
            "4  adani family ’ partner used ‘ opaque ’ fund in...   \n",
            "\n",
            "                                         description  \\\n",
            "0  stateowned firm nlc india ltd nlcil monday sai...   \n",
            "1  sbi clerk prelim exam sbi clerk prelim exam te...   \n",
            "2  barbie top nominee year followed closely oppen...   \n",
            "3       new deal make oneplus nord easy purchase r k   \n",
            "4  citing review file multiple tax haven internal...   \n",
            "\n",
            "                                             content  \n",
            "0  stateowned firm nlc india ltd nlcil monday sai...  \n",
            "1  sbi clerk prelim exam state bank indian sbi an...  \n",
            "2  michelle yeoh ferrell angela bassett amanda se...  \n",
            "3  review oneplus nord g praised balanced combina...  \n",
            "4  million dollar invested publicly traded stock ...  \n"
          ]
        }
      ],
      "source": [
        "# Apply the function to each column in the test dataset\n",
        "test_df[\"headlines\"] = test_df[\"headlines\"].apply(format_data)\n",
        "test_df[\"description\"] = test_df[\"description\"].apply(format_data)\n",
        "test_df[\"content\"] = test_df[\"content\"].apply(format_data)\n",
        "\n",
        "# Preview the preprocessed test data\n",
        "print(test_df[[\"headlines\", \"description\", \"content\"]].head())\n",
        "# Combine the text columns into a single column for vectorization"
      ]
    },
    {
      "cell_type": "markdown",
      "id": "506c1550",
      "metadata": {
        "id": "506c1550"
      },
      "source": [
        "<h3 style=\"color:blue;\">FEATURE ENGENEERING</h3>"
      ]
    },
    {
      "cell_type": "code",
      "execution_count": null,
      "id": "2ac4773c-a6be-49c8-836c-f772e7d5bef0",
      "metadata": {
        "colab": {
          "base_uri": "https://localhost:8080/"
        },
        "id": "2ac4773c-a6be-49c8-836c-f772e7d5bef0",
        "outputId": "978c74aa-c7e3-4a66-ab6c-512a64b7d726"
      },
      "outputs": [
        {
          "output_type": "stream",
          "name": "stdout",
          "text": [
            "X_train shape: (5520,)\n",
            "y_train shape: (5520,)\n",
            "X_test shape: (2000,)\n",
            "y_test shape: (2000,)\n"
          ]
        }
      ],
      "source": [
        "import joblib\n",
        "from sklearn.feature_extraction.text import CountVectorizer\n",
        "\n",
        "# Format feature variables\n",
        "X_train = np.array(train_df['headlines'] + ' ' + train_df['description'] + ' ' + train_df['content'])\n",
        "X_test = np.array(test_df['headlines'] + ' ' + test_df['description'] + ' ' + test_df['content'])\n",
        "\n",
        "# Format target variables\n",
        "y_train = train_df['category']\n",
        "y_test = test_df['category']\n",
        "\n",
        "print('X_train shape:', X_train.shape)\n",
        "print('y_train shape:', y_train.shape)\n",
        "\n",
        "print('X_test shape:', X_test.shape)\n",
        "print('y_test shape:', y_test.shape)"
      ]
    },
    {
      "cell_type": "code",
      "execution_count": null,
      "id": "c00d2ee9-f2b2-4a1a-b747-893a8964776c",
      "metadata": {
        "id": "c00d2ee9-f2b2-4a1a-b747-893a8964776c"
      },
      "outputs": [],
      "source": [
        "# Defining a function to vectorize data\n",
        "def vectorize_data(X_train, X_test):\n",
        "    # Initialize CountVectorizer with stop_words handling and minimum document frequency\n",
        "    vect = CountVectorizer(stop_words='english', min_df=0.01)\n",
        "    X_train = vect.fit_transform(X_train).toarray()  # Transform and convert to NumPy array\n",
        "    X_test = vect.transform(X_test).toarray()\n",
        "    joblib.dump(vect, 'vectorizer.pkl')\n",
        "\n",
        "    return X_train, X_test"
      ]
    },
    {
      "cell_type": "code",
      "execution_count": null,
      "id": "56d2b2ff-7f88-48e7-8ab8-f1a3f9785a9c",
      "metadata": {
        "id": "56d2b2ff-7f88-48e7-8ab8-f1a3f9785a9c"
      },
      "outputs": [],
      "source": [
        "# Apply vectorization to each column\n",
        "X_train, X_test = vectorize_data(X_train, X_test)\n"
      ]
    },
    {
      "cell_type": "code",
      "execution_count": null,
      "id": "79357e07",
      "metadata": {
        "colab": {
          "base_uri": "https://localhost:8080/"
        },
        "id": "79357e07",
        "outputId": "4bc6cd04-48e6-4cb4-d711-791123403d80"
      },
      "outputs": [
        {
          "output_type": "stream",
          "name": "stdout",
          "text": [
            "X_train shape: (5520, 1636)\n",
            "X_test shape: (2000, 1636)\n"
          ]
        }
      ],
      "source": [
        "# Print results\n",
        "print('X_train shape:', X_train.shape)\n",
        "print('X_test shape:', X_test.shape)"
      ]
    },
    {
      "cell_type": "markdown",
      "id": "5da58dcc",
      "metadata": {
        "id": "5da58dcc"
      },
      "source": [
        "<h3 style=\"color:blue;\">TRAINING MODELS</h3>"
      ]
    },
    {
      "cell_type": "code",
      "execution_count": null,
      "id": "c846de84",
      "metadata": {
        "id": "c846de84"
      },
      "outputs": [],
      "source": [
        "# !pip install mlflow when MLflow is not installed\n",
        "# Set the tracking URI for MLflow\n",
        "import mlflow\n",
        "import mlflow.sklearn"
      ]
    },
    {
      "cell_type": "code",
      "execution_count": null,
      "id": "56f64c18",
      "metadata": {
        "colab": {
          "base_uri": "https://localhost:8080/"
        },
        "id": "56f64c18",
        "outputId": "748a9130-4d69-4e61-c10c-041a0f3d8cb7"
      },
      "outputs": [
        {
          "output_type": "stream",
          "name": "stderr",
          "text": [
            "2025/05/06 09:49:03 INFO mlflow.tracking.fluent: Experiment with name 'News Category Classification' does not exist. Creating a new experiment.\n"
          ]
        },
        {
          "output_type": "execute_result",
          "data": {
            "text/plain": [
              "<Experiment: artifact_location='file:///content/mlruns/187890313000092510', creation_time=1746524943018, experiment_id='187890313000092510', last_update_time=1746524943018, lifecycle_stage='active', name='News Category Classification', tags={}>"
            ]
          },
          "metadata": {},
          "execution_count": 20
        }
      ],
      "source": [
        "mlflow.set_experiment(\"News Category Classification\")"
      ]
    },
    {
      "cell_type": "code",
      "execution_count": null,
      "id": "ac32d330",
      "metadata": {
        "id": "ac32d330"
      },
      "outputs": [],
      "source": [
        "# Import necessary libraries for model training\n",
        "from sklearn.naive_bayes import MultinomialNB\n",
        "from sklearn.metrics import classification_report, accuracy_score, confusion_matrix\n",
        "from sklearn.pipeline import make_pipeline\n",
        "from sklearn.linear_model import LogisticRegression\n",
        "from sklearn.ensemble import RandomForestClassifier\n",
        "from sklearn.svm import SVC"
      ]
    },
    {
      "cell_type": "code",
      "execution_count": null,
      "id": "1cb490b2",
      "metadata": {
        "id": "1cb490b2"
      },
      "outputs": [],
      "source": [
        "# Initialize the models\n",
        "models = {\n",
        "    'Logistic Regression': LogisticRegression(max_iter=1000),\n",
        "    'Random Forest': RandomForestClassifier(n_estimators=100, random_state=42),\n",
        "    'Support Vector Classifier': SVC(kernel='linear', random_state=42),\n",
        "    'Naive Bayes': MultinomialNB()\n",
        "}\n",
        "# Initialize a dictionary to store the results\n",
        "results = {}\n"
      ]
    },
    {
      "cell_type": "markdown",
      "id": "ef32b136",
      "metadata": {
        "id": "ef32b136"
      },
      "source": [
        "<h3 style=\"color:blue;\">TRAINING AND EVALUATING MODELS INSIDE MLFLOW</h3>"
      ]
    },
    {
      "cell_type": "code",
      "execution_count": null,
      "id": "e2073997",
      "metadata": {
        "colab": {
          "base_uri": "https://localhost:8080/"
        },
        "id": "e2073997",
        "outputId": "4b4e5c9b-1da3-49b3-da24-fec65e64e807"
      },
      "outputs": [
        {
          "output_type": "stream",
          "name": "stdout",
          "text": [
            "Model: Logistic Regression\n",
            "Classification Report:\n",
            "                precision    recall  f1-score   support\n",
            "\n",
            "     business       0.96      0.96      0.96       400\n",
            "    education       0.99      0.98      0.99       400\n",
            "entertainment       0.99      0.98      0.99       400\n",
            "       sports       0.98      0.99      0.98       400\n",
            "   technology       0.94      0.95      0.95       400\n",
            "\n",
            "     accuracy                           0.97      2000\n",
            "    macro avg       0.97      0.97      0.97      2000\n",
            " weighted avg       0.97      0.97      0.97      2000\n",
            "\n",
            "Accuracy: 0.974\n",
            "--------------------------------------------------\n",
            "Model: Random Forest\n",
            "Classification Report:\n",
            "                precision    recall  f1-score   support\n",
            "\n",
            "     business       0.97      0.95      0.96       400\n",
            "    education       0.97      0.99      0.98       400\n",
            "entertainment       0.99      0.96      0.98       400\n",
            "       sports       0.99      0.97      0.98       400\n",
            "   technology       0.91      0.95      0.93       400\n",
            "\n",
            "     accuracy                           0.96      2000\n",
            "    macro avg       0.97      0.96      0.96      2000\n",
            " weighted avg       0.97      0.96      0.96      2000\n",
            "\n",
            "Accuracy: 0.9645\n",
            "--------------------------------------------------\n",
            "Model: Support Vector Classifier\n",
            "Classification Report:\n",
            "                precision    recall  f1-score   support\n",
            "\n",
            "     business       0.95      0.95      0.95       400\n",
            "    education       0.99      0.98      0.98       400\n",
            "entertainment       0.99      0.98      0.98       400\n",
            "       sports       0.98      0.98      0.98       400\n",
            "   technology       0.93      0.94      0.94       400\n",
            "\n",
            "     accuracy                           0.97      2000\n",
            "    macro avg       0.97      0.97      0.97      2000\n",
            " weighted avg       0.97      0.97      0.97      2000\n",
            "\n",
            "Accuracy: 0.9665\n",
            "--------------------------------------------------\n",
            "Model: Naive Bayes\n",
            "Classification Report:\n",
            "                precision    recall  f1-score   support\n",
            "\n",
            "     business       0.97      0.94      0.95       400\n",
            "    education       0.99      0.98      0.99       400\n",
            "entertainment       0.97      0.99      0.98       400\n",
            "       sports       0.98      0.97      0.97       400\n",
            "   technology       0.92      0.96      0.94       400\n",
            "\n",
            "     accuracy                           0.97      2000\n",
            "    macro avg       0.97      0.97      0.97      2000\n",
            " weighted avg       0.97      0.97      0.97      2000\n",
            "\n",
            "Accuracy: 0.967\n",
            "--------------------------------------------------\n"
          ]
        }
      ],
      "source": [
        "# End any active MLflow run\n",
        "mlflow.end_run()\n",
        "\n",
        "# Train and evaluate each model inside MLflow tracking\n",
        "accuracy_results = {}\n",
        "cm_results = {}\n",
        "\n",
        "for model_name, model in models.items():\n",
        "    with mlflow.start_run(run_name=model_name, nested=True):  # Only use nested runs\n",
        "        # Train the model\n",
        "        model.fit(X_train, y_train)\n",
        "\n",
        "        # Make predictions on the validation set\n",
        "        y_pred = model.predict(X_test)\n",
        "\n",
        "        # Calculate accuracy and store results\n",
        "        accuracy = accuracy_score(y_test, y_pred)\n",
        "        cm = confusion_matrix(y_test, y_pred)\n",
        "\n",
        "        accuracy_results[model_name] = {'accuracy':accuracy}\n",
        "        cm_results[model_name] = {'confusion_matrix':cm}\n",
        "\n",
        "        # Log the model and metrics to MLflow\n",
        "        mlflow.log_param(\"model_name\", model_name)\n",
        "        mlflow.log_metric(\"accuracy\", accuracy)\n",
        "        mlflow.log_metric(\"accuracy\",  precision_score(y_test, y_pred, average='weighted'))\n",
        "        mlflow.log_metric(\"accuracy\",  f1_score(y_test, y_pred, average='weighted'))\n",
        "        mlflow.log_metric(\"accuracy\",  recall_score(y_test, y_pred, average='weighted'))\n",
        "\n",
        "        # Print classification report and confusion matrix\n",
        "        print(f\"Model: {model_name}\")\n",
        "        print(\"Classification Report:\\n\", classification_report(y_test, y_pred))\n",
        "        print(\"Accuracy:\", accuracy)\n",
        "        print(\"-\" * 50)"
      ]
    },
    {
      "cell_type": "markdown",
      "id": "0c79be29",
      "metadata": {
        "id": "0c79be29"
      },
      "source": [
        "<h3 style=\"color:blue;\">SELECTING THE BEST MODEL</h3>"
      ]
    },
    {
      "cell_type": "code",
      "execution_count": null,
      "id": "32cacfb8",
      "metadata": {
        "colab": {
          "base_uri": "https://localhost:8080/"
        },
        "id": "32cacfb8",
        "outputId": "fa190a31-9c60-4eb0-eb46-f1f94709c982"
      },
      "outputs": [
        {
          "output_type": "stream",
          "name": "stdout",
          "text": [
            "Best Model: Logistic Regression\n",
            "Best model performance on test set:\n",
            "Accuracy: 0.974\n",
            "Classification Report:\n",
            "                precision    recall  f1-score   support\n",
            "\n",
            "     business       0.96      0.96      0.96       400\n",
            "    education       0.99      0.98      0.99       400\n",
            "entertainment       0.99      0.98      0.99       400\n",
            "       sports       0.98      0.99      0.98       400\n",
            "   technology       0.94      0.95      0.95       400\n",
            "\n",
            "     accuracy                           0.97      2000\n",
            "    macro avg       0.97      0.97      0.97      2000\n",
            " weighted avg       0.97      0.97      0.97      2000\n",
            "\n"
          ]
        }
      ],
      "source": [
        "#selecting the best model, using accuracy\n",
        "best_model = max(accuracy_results, key=lambda model_name: accuracy_results[model_name]['accuracy'])\n",
        "print(f\"Best Model: {best_model}\")\n",
        "\n",
        "# Train the best model on the entire training set\n",
        "best_model_instance = models[best_model]\n",
        "best_model_instance.fit(X_train, y_train)\n",
        "\n",
        "#End run if already running\n",
        "mlflow.end_run()\n",
        "\n",
        "# Save the best model to MLflow\n",
        "with mlflow.start_run():\n",
        "    mlflow.sklearn.log_model(best_model_instance, \"Best_model\", input_example=X_train[:1])\n",
        "\n",
        "# Make predictions on the test set\n",
        "y_test_pred = best_model_instance.predict(X_test)\n",
        "\n",
        "# Evaluate the model on the test set\n",
        "accuracy_test = accuracy_score(y_test, y_test_pred)\n",
        "mlflow.log_metric(\"test_accuracy\", accuracy_test)\n",
        "report_test = classification_report(y_test, y_test_pred)\n",
        "\n",
        "# Print the test set results\n",
        "print(\"Best model performance on test set:\")\n",
        "print(f\"Accuracy: {accuracy_test}\")\n",
        "print(\"Classification Report:\\n\", report_test)"
      ]
    },
    {
      "cell_type": "code",
      "execution_count": null,
      "id": "b23a6331",
      "metadata": {
        "colab": {
          "base_uri": "https://localhost:8080/",
          "height": 206
        },
        "id": "b23a6331",
        "outputId": "45bffdc0-cfab-4ff3-ae19-2c2988e9da05"
      },
      "outputs": [
        {
          "output_type": "display_data",
          "data": {
            "text/plain": [
              "        category\n",
              "0       business\n",
              "1      education\n",
              "2  entertainment\n",
              "3     technology\n",
              "4       business"
            ],
            "text/html": [
              "\n",
              "  <div id=\"df-f312ee24-9c99-45fe-b694-ddef28338a76\" class=\"colab-df-container\">\n",
              "    <div>\n",
              "<style scoped>\n",
              "    .dataframe tbody tr th:only-of-type {\n",
              "        vertical-align: middle;\n",
              "    }\n",
              "\n",
              "    .dataframe tbody tr th {\n",
              "        vertical-align: top;\n",
              "    }\n",
              "\n",
              "    .dataframe thead th {\n",
              "        text-align: right;\n",
              "    }\n",
              "</style>\n",
              "<table border=\"1\" class=\"dataframe\">\n",
              "  <thead>\n",
              "    <tr style=\"text-align: right;\">\n",
              "      <th></th>\n",
              "      <th>category</th>\n",
              "    </tr>\n",
              "  </thead>\n",
              "  <tbody>\n",
              "    <tr>\n",
              "      <th>0</th>\n",
              "      <td>business</td>\n",
              "    </tr>\n",
              "    <tr>\n",
              "      <th>1</th>\n",
              "      <td>education</td>\n",
              "    </tr>\n",
              "    <tr>\n",
              "      <th>2</th>\n",
              "      <td>entertainment</td>\n",
              "    </tr>\n",
              "    <tr>\n",
              "      <th>3</th>\n",
              "      <td>technology</td>\n",
              "    </tr>\n",
              "    <tr>\n",
              "      <th>4</th>\n",
              "      <td>business</td>\n",
              "    </tr>\n",
              "  </tbody>\n",
              "</table>\n",
              "</div>\n",
              "    <div class=\"colab-df-buttons\">\n",
              "\n",
              "  <div class=\"colab-df-container\">\n",
              "    <button class=\"colab-df-convert\" onclick=\"convertToInteractive('df-f312ee24-9c99-45fe-b694-ddef28338a76')\"\n",
              "            title=\"Convert this dataframe to an interactive table.\"\n",
              "            style=\"display:none;\">\n",
              "\n",
              "  <svg xmlns=\"http://www.w3.org/2000/svg\" height=\"24px\" viewBox=\"0 -960 960 960\">\n",
              "    <path d=\"M120-120v-720h720v720H120Zm60-500h600v-160H180v160Zm220 220h160v-160H400v160Zm0 220h160v-160H400v160ZM180-400h160v-160H180v160Zm440 0h160v-160H620v160ZM180-180h160v-160H180v160Zm440 0h160v-160H620v160Z\"/>\n",
              "  </svg>\n",
              "    </button>\n",
              "\n",
              "  <style>\n",
              "    .colab-df-container {\n",
              "      display:flex;\n",
              "      gap: 12px;\n",
              "    }\n",
              "\n",
              "    .colab-df-convert {\n",
              "      background-color: #E8F0FE;\n",
              "      border: none;\n",
              "      border-radius: 50%;\n",
              "      cursor: pointer;\n",
              "      display: none;\n",
              "      fill: #1967D2;\n",
              "      height: 32px;\n",
              "      padding: 0 0 0 0;\n",
              "      width: 32px;\n",
              "    }\n",
              "\n",
              "    .colab-df-convert:hover {\n",
              "      background-color: #E2EBFA;\n",
              "      box-shadow: 0px 1px 2px rgba(60, 64, 67, 0.3), 0px 1px 3px 1px rgba(60, 64, 67, 0.15);\n",
              "      fill: #174EA6;\n",
              "    }\n",
              "\n",
              "    .colab-df-buttons div {\n",
              "      margin-bottom: 4px;\n",
              "    }\n",
              "\n",
              "    [theme=dark] .colab-df-convert {\n",
              "      background-color: #3B4455;\n",
              "      fill: #D2E3FC;\n",
              "    }\n",
              "\n",
              "    [theme=dark] .colab-df-convert:hover {\n",
              "      background-color: #434B5C;\n",
              "      box-shadow: 0px 1px 3px 1px rgba(0, 0, 0, 0.15);\n",
              "      filter: drop-shadow(0px 1px 2px rgba(0, 0, 0, 0.3));\n",
              "      fill: #FFFFFF;\n",
              "    }\n",
              "  </style>\n",
              "\n",
              "    <script>\n",
              "      const buttonEl =\n",
              "        document.querySelector('#df-f312ee24-9c99-45fe-b694-ddef28338a76 button.colab-df-convert');\n",
              "      buttonEl.style.display =\n",
              "        google.colab.kernel.accessAllowed ? 'block' : 'none';\n",
              "\n",
              "      async function convertToInteractive(key) {\n",
              "        const element = document.querySelector('#df-f312ee24-9c99-45fe-b694-ddef28338a76');\n",
              "        const dataTable =\n",
              "          await google.colab.kernel.invokeFunction('convertToInteractive',\n",
              "                                                    [key], {});\n",
              "        if (!dataTable) return;\n",
              "\n",
              "        const docLinkHtml = 'Like what you see? Visit the ' +\n",
              "          '<a target=\"_blank\" href=https://colab.research.google.com/notebooks/data_table.ipynb>data table notebook</a>'\n",
              "          + ' to learn more about interactive tables.';\n",
              "        element.innerHTML = '';\n",
              "        dataTable['output_type'] = 'display_data';\n",
              "        await google.colab.output.renderOutput(dataTable, element);\n",
              "        const docLink = document.createElement('div');\n",
              "        docLink.innerHTML = docLinkHtml;\n",
              "        element.appendChild(docLink);\n",
              "      }\n",
              "    </script>\n",
              "  </div>\n",
              "\n",
              "\n",
              "    <div id=\"df-51e74693-9e8a-4456-885b-dc1d46bd935e\">\n",
              "      <button class=\"colab-df-quickchart\" onclick=\"quickchart('df-51e74693-9e8a-4456-885b-dc1d46bd935e')\"\n",
              "                title=\"Suggest charts\"\n",
              "                style=\"display:none;\">\n",
              "\n",
              "<svg xmlns=\"http://www.w3.org/2000/svg\" height=\"24px\"viewBox=\"0 0 24 24\"\n",
              "     width=\"24px\">\n",
              "    <g>\n",
              "        <path d=\"M19 3H5c-1.1 0-2 .9-2 2v14c0 1.1.9 2 2 2h14c1.1 0 2-.9 2-2V5c0-1.1-.9-2-2-2zM9 17H7v-7h2v7zm4 0h-2V7h2v10zm4 0h-2v-4h2v4z\"/>\n",
              "    </g>\n",
              "</svg>\n",
              "      </button>\n",
              "\n",
              "<style>\n",
              "  .colab-df-quickchart {\n",
              "      --bg-color: #E8F0FE;\n",
              "      --fill-color: #1967D2;\n",
              "      --hover-bg-color: #E2EBFA;\n",
              "      --hover-fill-color: #174EA6;\n",
              "      --disabled-fill-color: #AAA;\n",
              "      --disabled-bg-color: #DDD;\n",
              "  }\n",
              "\n",
              "  [theme=dark] .colab-df-quickchart {\n",
              "      --bg-color: #3B4455;\n",
              "      --fill-color: #D2E3FC;\n",
              "      --hover-bg-color: #434B5C;\n",
              "      --hover-fill-color: #FFFFFF;\n",
              "      --disabled-bg-color: #3B4455;\n",
              "      --disabled-fill-color: #666;\n",
              "  }\n",
              "\n",
              "  .colab-df-quickchart {\n",
              "    background-color: var(--bg-color);\n",
              "    border: none;\n",
              "    border-radius: 50%;\n",
              "    cursor: pointer;\n",
              "    display: none;\n",
              "    fill: var(--fill-color);\n",
              "    height: 32px;\n",
              "    padding: 0;\n",
              "    width: 32px;\n",
              "  }\n",
              "\n",
              "  .colab-df-quickchart:hover {\n",
              "    background-color: var(--hover-bg-color);\n",
              "    box-shadow: 0 1px 2px rgba(60, 64, 67, 0.3), 0 1px 3px 1px rgba(60, 64, 67, 0.15);\n",
              "    fill: var(--button-hover-fill-color);\n",
              "  }\n",
              "\n",
              "  .colab-df-quickchart-complete:disabled,\n",
              "  .colab-df-quickchart-complete:disabled:hover {\n",
              "    background-color: var(--disabled-bg-color);\n",
              "    fill: var(--disabled-fill-color);\n",
              "    box-shadow: none;\n",
              "  }\n",
              "\n",
              "  .colab-df-spinner {\n",
              "    border: 2px solid var(--fill-color);\n",
              "    border-color: transparent;\n",
              "    border-bottom-color: var(--fill-color);\n",
              "    animation:\n",
              "      spin 1s steps(1) infinite;\n",
              "  }\n",
              "\n",
              "  @keyframes spin {\n",
              "    0% {\n",
              "      border-color: transparent;\n",
              "      border-bottom-color: var(--fill-color);\n",
              "      border-left-color: var(--fill-color);\n",
              "    }\n",
              "    20% {\n",
              "      border-color: transparent;\n",
              "      border-left-color: var(--fill-color);\n",
              "      border-top-color: var(--fill-color);\n",
              "    }\n",
              "    30% {\n",
              "      border-color: transparent;\n",
              "      border-left-color: var(--fill-color);\n",
              "      border-top-color: var(--fill-color);\n",
              "      border-right-color: var(--fill-color);\n",
              "    }\n",
              "    40% {\n",
              "      border-color: transparent;\n",
              "      border-right-color: var(--fill-color);\n",
              "      border-top-color: var(--fill-color);\n",
              "    }\n",
              "    60% {\n",
              "      border-color: transparent;\n",
              "      border-right-color: var(--fill-color);\n",
              "    }\n",
              "    80% {\n",
              "      border-color: transparent;\n",
              "      border-right-color: var(--fill-color);\n",
              "      border-bottom-color: var(--fill-color);\n",
              "    }\n",
              "    90% {\n",
              "      border-color: transparent;\n",
              "      border-bottom-color: var(--fill-color);\n",
              "    }\n",
              "  }\n",
              "</style>\n",
              "\n",
              "      <script>\n",
              "        async function quickchart(key) {\n",
              "          const quickchartButtonEl =\n",
              "            document.querySelector('#' + key + ' button');\n",
              "          quickchartButtonEl.disabled = true;  // To prevent multiple clicks.\n",
              "          quickchartButtonEl.classList.add('colab-df-spinner');\n",
              "          try {\n",
              "            const charts = await google.colab.kernel.invokeFunction(\n",
              "                'suggestCharts', [key], {});\n",
              "          } catch (error) {\n",
              "            console.error('Error during call to suggestCharts:', error);\n",
              "          }\n",
              "          quickchartButtonEl.classList.remove('colab-df-spinner');\n",
              "          quickchartButtonEl.classList.add('colab-df-quickchart-complete');\n",
              "        }\n",
              "        (() => {\n",
              "          let quickchartButtonEl =\n",
              "            document.querySelector('#df-51e74693-9e8a-4456-885b-dc1d46bd935e button');\n",
              "          quickchartButtonEl.style.display =\n",
              "            google.colab.kernel.accessAllowed ? 'block' : 'none';\n",
              "        })();\n",
              "      </script>\n",
              "    </div>\n",
              "\n",
              "    </div>\n",
              "  </div>\n"
            ],
            "application/vnd.google.colaboratory.intrinsic+json": {
              "type": "dataframe",
              "summary": "{\n  \"name\": \"display(predictions_df\",\n  \"rows\": 5,\n  \"fields\": [\n    {\n      \"column\": \"category\",\n      \"properties\": {\n        \"dtype\": \"string\",\n        \"num_unique_values\": 4,\n        \"samples\": [\n          \"education\",\n          \"technology\",\n          \"business\"\n        ],\n        \"semantic_type\": \"\",\n        \"description\": \"\"\n      }\n    }\n  ]\n}"
            }
          },
          "metadata": {}
        }
      ],
      "source": [
        "# Save the model using joblib\n",
        "joblib.dump(best_model_instance, 'best_model.pkl')\n",
        "\n",
        "# Save the predictions to a CSV file\n",
        "predictions_df = pd.DataFrame({'category': y_test_pred})\n",
        "predictions_df.to_csv('predictions.csv', index=False)\n",
        "\n",
        "# Display the first few rows of the predictions DataFrame\n",
        "display(predictions_df.head())"
      ]
    },
    {
      "cell_type": "code",
      "execution_count": null,
      "id": "0674fb87",
      "metadata": {
        "colab": {
          "base_uri": "https://localhost:8080/",
          "height": 1000
        },
        "id": "0674fb87",
        "outputId": "dd70a705-cddb-485d-dcee-e1f21759ed04"
      },
      "outputs": [
        {
          "output_type": "display_data",
          "data": {
            "text/plain": [
              "<Figure size 1000x700 with 2 Axes>"
            ],
            "image/png": "[encoded data removed]"
          },
          "metadata": {}
        },
        {
          "output_type": "display_data",
          "data": {
            "text/plain": [
              "<Figure size 1000x700 with 2 Axes>"
            ],
            "image/png": "[encoded data removed]"
          },
          "metadata": {}
        },
        {
          "output_type": "display_data",
          "data": {
            "text/plain": [
              "<Figure size 1000x700 with 2 Axes>"
            ],
            "image/png": "[encoded data removed]"
          },
          "metadata": {}
        },
        {
          "output_type": "display_data",
          "data": {
            "text/plain": [
              "<Figure size 1000x700 with 2 Axes>"
            ],
            "image/png": "[encoded data removed]"
          },
          "metadata": {}
        }
      ],
      "source": [
        "def plot_confusion_matrix(cm, model_name, labels):\n",
        "    \"\"\"Plots the confusion matrix using Seaborn.\"\"\"\n",
        "    plt.figure(figsize=(10, 7))\n",
        "    sns.heatmap(cm, annot=True, fmt=\"d\", cmap=\"Blues\", xticklabels=labels, yticklabels=labels)\n",
        "    plt.title(f\"Confusion Matrix - {model_name}\")\n",
        "    plt.xlabel(\"Predicted Label\")\n",
        "    plt.ylabel(\"True Label\")\n",
        "    plt.show()\n",
        "\n",
        "# Get the unique category labels\n",
        "category_labels = list(train_df.category.unique())\n",
        "\n",
        "# Plot the confusion matrix for each model\n",
        "for model_name, data in cm_results.items():\n",
        "    cm = data['confusion_matrix']\n",
        "    plot_confusion_matrix(cm, model_name, category_labels)"
      ]
    },
    {
      "cell_type": "markdown",
      "id": "5def9ed5",
      "metadata": {
        "id": "5def9ed5"
      },
      "source": [
        "This confusion matrix visually represents the performance of a classification model in categorizing various topics: business, sports, entertainment, education, and technology. The diagonal values show correct classifications, with Education having the greater correctly classified number and only 4 samples being incorrectly classified( one classified as business and 3 classified as technology)\n",
        "\n",
        "**solutions to misclassifications:**\n",
        "Our confusion matrix visualization suggest there is a confusion between certain categories, which may require better feature engineering or tuning of the model."
      ]
    },
    {
      "cell_type": "code",
      "execution_count": null,
      "id": "43a36521",
      "metadata": {
        "id": "43a36521"
      },
      "outputs": [],
      "source": [
        "# loading saved model and vectorizer and making predictions on new data\n",
        "loaded_model = joblib.load(\"best_model.pkl\")\n",
        "loaded_vectorizer = joblib.load(\"vectorizer.pkl\")\n",
        "\n",
        "def predict_category(headlines, description, content):\n",
        "    \"\"\"\n",
        "    Function to predict the category of a news article.\n",
        "    \"\"\"\n",
        "    headlines = format_data(headlines)\n",
        "    description = format_data(description)\n",
        "    content = format_data(content)\n",
        "\n",
        "    # Vectorize input\n",
        "    X_new = np.concatenate((\n",
        "        loaded_vectorizer.transform([headlines]).toarray(),\n",
        "        loaded_vectorizer.transform([description]).toarray(),\n",
        "        loaded_vectorizer.transform([content]).toarray()\n",
        "    ), axis=1)\n",
        "\n",
        "    return loaded_model.predict(X_new)[0]"
      ]
    },
    {
      "cell_type": "code",
      "execution_count": null,
      "id": "4154bdea",
      "metadata": {
        "colab": {
          "base_uri": "https://localhost:8080/"
        },
        "id": "4154bdea",
        "outputId": "8c74501f-4ec6-44ec-d502-fa2bbdc658a2"
      },
      "outputs": [
        {
          "metadata": {
            "tags": null
          },
          "name": "stdout",
          "output_type": "stream",
          "text": [
            "[2025-05-06 10:29:09 +0000] [11386] [INFO] Starting gunicorn 23.0.0\n",
            "[2025-05-06 10:29:09 +0000] [11386] [INFO] Listening at: http://127.0.0.1:5000 (11386)\n",
            "[2025-05-06 10:29:09 +0000] [11386] [INFO] Using worker: sync\n",
            "[2025-05-06 10:29:09 +0000] [11387] [INFO] Booting worker with pid: 11387\n",
            "[2025-05-06 10:29:09 +0000] [11388] [INFO] Booting worker with pid: 11388\n",
            "[2025-05-06 10:29:09 +0000] [11389] [INFO] Booting worker with pid: 11389\n",
            "[2025-05-06 10:29:09 +0000] [11390] [INFO] Booting worker with pid: 11390\n"
          ]
        }
      ],
      "source": [
        "# Run MLflow UI to view the experiment results\n",
        "!mlflow ui"
      ]
    },
    {
      "cell_type": "markdown",
      "id": "a05af281-606b-47a0-b916-3277cd1c7992",
      "metadata": {
        "id": "a05af281-606b-47a0-b916-3277cd1c7992"
      },
      "source": [
        "<h3 style=\"color:blue;\">CONCLUSION AND INSIGHTS</h3>"
      ]
    },
    {
      "cell_type": "markdown",
      "id": "ecb3bd5b-ab4f-4c3b-99d6-cd17fb23a6f0",
      "metadata": {
        "id": "ecb3bd5b-ab4f-4c3b-99d6-cd17fb23a6f0"
      },
      "source": [
        "> To conclude, our team built a comprehensive news categorization pipeline, from preprocessing text to training multiple models and evaluating performance using MLflow. The key steps that were taken were:\n",
        "\n",
        "**1.** Data Preparation – Combined vectorized text features & split into training, validation, and test sets.\n",
        "\n",
        "**2.** Model Training & Evaluation – Trained Logistic Regression, Random Forest, Naïve Bayes, and SVM, logging accuracy & metrics in MLflow.\n",
        "\n",
        "**3.** Best Model Selection – Identified the best-performing model dynamically based on validation accuracy.\n",
        "\n",
        "**4.** Model Deployment – Saved the best model and vectorizer for future predictions using joblib.\n",
        "\n",
        "**5.** Results Tracking – MLflow logged parameters, accuracy, and confusion matrices, allowing comparison between models.\n",
        "\n",
        "**6.** Created a Prediction Function – Built a reusable function to classify new articles dynamically.\n",
        "\n",
        "**Results from MLflow:**\n",
        "The \"Test Accuracy\" showed that the best-performing model wasthe Logistic Regression model\n",
        ", which achieved strong accuracy, with performance tracked across all trained models.\n"
      ]
    }
  ],
  "metadata": {
    "kernelspec": {
      "display_name": "base",
      "language": "python",
      "name": "python3"
    },
    "language_info": {
      "codemirror_mode": {
        "name": "ipython",
        "version": 3
      },
      "file_extension": ".py",
      "mimetype": "text/x-python",
      "name": "python",
      "nbconvert_exporter": "python",
      "pygments_lexer": "ipython3",
      "version": "3.12.4"
    },
    "colab": {
      "provenance": []
    }
  },
  "nbformat": 4,
  "nbformat_minor": 5
}