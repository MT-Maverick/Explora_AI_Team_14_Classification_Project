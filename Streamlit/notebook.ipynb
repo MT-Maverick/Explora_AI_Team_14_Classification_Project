{
  "cells": [
    {
      "cell_type": "markdown",
      "metadata": {
        "id": "tnEOl58CIvYA"
      },
      "source": [
        "Import required libraries"
      ]
    },
    {
      "cell_type": "code",
      "source": [
        "! pip install --upgrade tensorflow"
      ],
      "metadata": {
        "id": "XbbZnj6DJ20o",
        "outputId": "824d5c32-a7bd-407c-b29e-deaabb851fdc",
        "colab": {
          "base_uri": "https://localhost:8080/"
        }
      },
      "execution_count": 108,
      "outputs": [
        {
          "output_type": "stream",
          "name": "stdout",
          "text": [
            "Requirement already satisfied: tensorflow in /usr/local/lib/python3.11/dist-packages (2.19.0)\n",
            "Requirement already satisfied: absl-py>=1.0.0 in /usr/local/lib/python3.11/dist-packages (from tensorflow) (1.4.0)\n",
            "Requirement already satisfied: astunparse>=1.6.0 in /usr/local/lib/python3.11/dist-packages (from tensorflow) (1.6.3)\n",
            "Requirement already satisfied: flatbuffers>=24.3.25 in /usr/local/lib/python3.11/dist-packages (from tensorflow) (25.2.10)\n",
            "Requirement already satisfied: gast!=0.5.0,!=0.5.1,!=0.5.2,>=0.2.1 in /usr/local/lib/python3.11/dist-packages (from tensorflow) (0.6.0)\n",
            "Requirement already satisfied: google-pasta>=0.1.1 in /usr/local/lib/python3.11/dist-packages (from tensorflow) (0.2.0)\n",
            "Requirement already satisfied: libclang>=13.0.0 in /usr/local/lib/python3.11/dist-packages (from tensorflow) (18.1.1)\n",
            "Requirement already satisfied: opt-einsum>=2.3.2 in /usr/local/lib/python3.11/dist-packages (from tensorflow) (3.4.0)\n",
            "Requirement already satisfied: packaging in /usr/local/lib/python3.11/dist-packages (from tensorflow) (24.2)\n",
            "Requirement already satisfied: protobuf!=4.21.0,!=4.21.1,!=4.21.2,!=4.21.3,!=4.21.4,!=4.21.5,<6.0.0dev,>=3.20.3 in /usr/local/lib/python3.11/dist-packages (from tensorflow) (5.29.4)\n",
            "Requirement already satisfied: requests<3,>=2.21.0 in /usr/local/lib/python3.11/dist-packages (from tensorflow) (2.32.3)\n",
            "Requirement already satisfied: setuptools in /usr/local/lib/python3.11/dist-packages (from tensorflow) (75.2.0)\n",
            "Requirement already satisfied: six>=1.12.0 in /usr/local/lib/python3.11/dist-packages (from tensorflow) (1.17.0)\n",
            "Requirement already satisfied: termcolor>=1.1.0 in /usr/local/lib/python3.11/dist-packages (from tensorflow) (3.0.1)\n",
            "Requirement already satisfied: typing-extensions>=3.6.6 in /usr/local/lib/python3.11/dist-packages (from tensorflow) (4.13.2)\n",
            "Requirement already satisfied: wrapt>=1.11.0 in /usr/local/lib/python3.11/dist-packages (from tensorflow) (1.17.2)\n",
            "Requirement already satisfied: grpcio<2.0,>=1.24.3 in /usr/local/lib/python3.11/dist-packages (from tensorflow) (1.71.0)\n",
            "Requirement already satisfied: tensorboard~=2.19.0 in /usr/local/lib/python3.11/dist-packages (from tensorflow) (2.19.0)\n",
            "Requirement already satisfied: keras>=3.5.0 in /usr/local/lib/python3.11/dist-packages (from tensorflow) (3.8.0)\n",
            "Requirement already satisfied: numpy<2.2.0,>=1.26.0 in /usr/local/lib/python3.11/dist-packages (from tensorflow) (2.0.2)\n",
            "Requirement already satisfied: h5py>=3.11.0 in /usr/local/lib/python3.11/dist-packages (from tensorflow) (3.13.0)\n",
            "Requirement already satisfied: ml-dtypes<1.0.0,>=0.5.1 in /usr/local/lib/python3.11/dist-packages (from tensorflow) (0.5.1)\n",
            "Requirement already satisfied: tensorflow-io-gcs-filesystem>=0.23.1 in /usr/local/lib/python3.11/dist-packages (from tensorflow) (0.37.1)\n",
            "Requirement already satisfied: wheel<1.0,>=0.23.0 in /usr/local/lib/python3.11/dist-packages (from astunparse>=1.6.0->tensorflow) (0.45.1)\n",
            "Requirement already satisfied: rich in /usr/local/lib/python3.11/dist-packages (from keras>=3.5.0->tensorflow) (13.9.4)\n",
            "Requirement already satisfied: namex in /usr/local/lib/python3.11/dist-packages (from keras>=3.5.0->tensorflow) (0.0.9)\n",
            "Requirement already satisfied: optree in /usr/local/lib/python3.11/dist-packages (from keras>=3.5.0->tensorflow) (0.15.0)\n",
            "Requirement already satisfied: charset-normalizer<4,>=2 in /usr/local/lib/python3.11/dist-packages (from requests<3,>=2.21.0->tensorflow) (3.4.1)\n",
            "Requirement already satisfied: idna<4,>=2.5 in /usr/local/lib/python3.11/dist-packages (from requests<3,>=2.21.0->tensorflow) (3.10)\n",
            "Requirement already satisfied: urllib3<3,>=1.21.1 in /usr/local/lib/python3.11/dist-packages (from requests<3,>=2.21.0->tensorflow) (2.3.0)\n",
            "Requirement already satisfied: certifi>=2017.4.17 in /usr/local/lib/python3.11/dist-packages (from requests<3,>=2.21.0->tensorflow) (2025.1.31)\n",
            "Requirement already satisfied: markdown>=2.6.8 in /usr/local/lib/python3.11/dist-packages (from tensorboard~=2.19.0->tensorflow) (3.8)\n",
            "Requirement already satisfied: tensorboard-data-server<0.8.0,>=0.7.0 in /usr/local/lib/python3.11/dist-packages (from tensorboard~=2.19.0->tensorflow) (0.7.2)\n",
            "Requirement already satisfied: werkzeug>=1.0.1 in /usr/local/lib/python3.11/dist-packages (from tensorboard~=2.19.0->tensorflow) (3.1.3)\n",
            "Requirement already satisfied: MarkupSafe>=2.1.1 in /usr/local/lib/python3.11/dist-packages (from werkzeug>=1.0.1->tensorboard~=2.19.0->tensorflow) (3.0.2)\n",
            "Requirement already satisfied: markdown-it-py>=2.2.0 in /usr/local/lib/python3.11/dist-packages (from rich->keras>=3.5.0->tensorflow) (3.0.0)\n",
            "Requirement already satisfied: pygments<3.0.0,>=2.13.0 in /usr/local/lib/python3.11/dist-packages (from rich->keras>=3.5.0->tensorflow) (2.18.0)\n",
            "Requirement already satisfied: mdurl~=0.1 in /usr/local/lib/python3.11/dist-packages (from markdown-it-py>=2.2.0->rich->keras>=3.5.0->tensorflow) (0.1.2)\n"
          ]
        }
      ]
    },
    {
      "cell_type": "code",
      "execution_count": 109,
      "metadata": {
        "id": "0TIunihFIvYB"
      },
      "outputs": [],
      "source": [
        "import nltk\n",
        "import re\n",
        "import string\n",
        "import numpy as np\n",
        "import pandas as pd\n",
        "import matplotlib.pyplot as plt\n",
        "import seaborn as sns\n",
        "import graphviz\n",
        "\n",
        "from nltk.corpus import stopwords\n",
        "from nltk.tokenize import word_tokenize\n",
        "\n",
        "from sklearn.feature_extraction.text import CountVectorizer\n",
        "from sklearn.linear_model import LogisticRegression\n",
        "from sklearn.metrics import accuracy_score, classification_report\n",
        "\n",
        "from sklearn.ensemble import RandomForestClassifier\n",
        "from sklearn.tree import export_graphviz\n",
        "\n",
        "from tensorflow.keras.datasets import mnist\n",
        "from tensorflow.keras.layers import Dense\n",
        "from tensorflow.keras.models import Sequential\n",
        "from matplotlib import pyplot as plt\n",
        "from random import randint\n",
        "from tensorflow.keras.utils import to_categorical\n",
        "from sklearn.preprocessing import LabelEncoder"
      ]
    },
    {
      "cell_type": "markdown",
      "metadata": {
        "id": "o_DUNRdNIvYC"
      },
      "source": [
        "download necessary Natural language toolkit libriries for lemmen and tokenization"
      ]
    },
    {
      "cell_type": "code",
      "execution_count": 110,
      "metadata": {
        "id": "3PooU5-SIvYC",
        "outputId": "95f74a19-815b-4008-907f-8e679cccc2b6",
        "colab": {
          "base_uri": "https://localhost:8080/"
        }
      },
      "outputs": [
        {
          "output_type": "execute_result",
          "data": {
            "text/plain": [
              "True"
            ]
          },
          "metadata": {},
          "execution_count": 110
        }
      ],
      "source": [
        "nltk.download(['punkt','punkt_tab','stopwords'], quiet=True)"
      ]
    },
    {
      "cell_type": "markdown",
      "metadata": {
        "id": "uX7xLWl8IvYC"
      },
      "source": [
        "separate data into train test sets"
      ]
    },
    {
      "cell_type": "code",
      "execution_count": 111,
      "metadata": {
        "id": "U5yX850VIvYC"
      },
      "outputs": [],
      "source": [
        "train_df = pd.read_csv('https://raw.githubusercontent.com/Jana-Liebenberg/2401PTDS_Classification_Project/main/Data/processed/train.csv', sep=',', encoding='utf-8')\n",
        "test_df = pd.read_csv('https://raw.githubusercontent.com/Jana-Liebenberg/2401PTDS_Classification_Project/main/Data/processed/test.csv', sep=',', encoding='utf-8')"
      ]
    },
    {
      "cell_type": "markdown",
      "metadata": {
        "id": "TRt709rhIvYC"
      },
      "source": [
        "View dimensions of graph"
      ]
    },
    {
      "cell_type": "code",
      "execution_count": 112,
      "metadata": {
        "id": "BUw6dDOEIvYD",
        "outputId": "2cbbe532-374b-446d-fdec-82c4d8ddc3d8",
        "colab": {
          "base_uri": "https://localhost:8080/",
          "height": 535
        }
      },
      "outputs": [
        {
          "output_type": "display_data",
          "data": {
            "text/plain": [
              "<Figure size 640x480 with 1 Axes>"
            ],
            "image/png": "[encoded data removed]"
          },
          "metadata": {}
        }
      ],
      "source": [
        "train_df['category'].value_counts().plot(kind='bar')\n",
        "plt.show()"
      ]
    },
    {
      "cell_type": "markdown",
      "metadata": {
        "id": "2VL8ZUh8IvYD"
      },
      "source": [
        "### 1) Format data\n",
        "in the following order:\n",
        "1) test on headline data given it is easier to split\n"
      ]
    },
    {
      "cell_type": "code",
      "execution_count": 113,
      "metadata": {
        "id": "gYcNUhQlIvYD"
      },
      "outputs": [],
      "source": [
        "\n",
        "def remove_punctuation_numbers_and_stopwords(text):\n",
        "    text = text.lower()\n",
        "\n",
        "    pun_nums = string.punctuation + \"0123456789\"\n",
        "    stop_words = set(stopwords.words('english'))\n",
        "    word_tokens = word_tokenize(text)\n",
        "\n",
        "    filterd_text = \" \".join([w for w in word_tokens if w not in (stop_words and pun_nums)])\n",
        "\n",
        "    second_check = re.sub(r'[^\\w\\s]','',filterd_text)\n",
        "\n",
        "    return second_check"
      ]
    },
    {
      "cell_type": "code",
      "execution_count": 114,
      "metadata": {
        "id": "QyKYMAVtIvYD"
      },
      "outputs": [],
      "source": [
        "\"\"\"\n",
        "Here we remove any punctuations and numbers that might have been in the data using the method declared\n",
        "before for:\n",
        "\"\"\"\n",
        "\n",
        "#Headlines Data:\n",
        "train_df['headlines'] = train_df['headlines'].apply(remove_punctuation_numbers_and_stopwords)\n",
        "test_df['headlines'] = test_df['headlines'].apply(remove_punctuation_numbers_and_stopwords)\n",
        "\n",
        "#Description Data:\n",
        "train_df['description'] = train_df['description'].apply(remove_punctuation_numbers_and_stopwords)\n",
        "test_df['description'] = test_df['description'].apply(remove_punctuation_numbers_and_stopwords)\n",
        "\n",
        "#Content Data:\n",
        "train_df['content'] = train_df['content'].apply(remove_punctuation_numbers_and_stopwords)\n",
        "test_df['content'] = test_df['content'].apply(remove_punctuation_numbers_and_stopwords)"
      ]
    },
    {
      "cell_type": "code",
      "execution_count": 115,
      "metadata": {
        "id": "NXDla2UOIvYD",
        "outputId": "66890212-1809-40de-aba5-ae1395417324",
        "colab": {
          "base_uri": "https://localhost:8080/"
        }
      },
      "outputs": [
        {
          "output_type": "execute_result",
          "data": {
            "text/plain": [
              "(5520,)"
            ]
          },
          "metadata": {},
          "execution_count": 115
        }
      ],
      "source": [
        "\"\"\"\"\n",
        "Here we format our target variables:\n",
        "\n",
        "\"\"\"\n",
        "y_train = train_df['category']\n",
        "y_test = test_df['category']\n",
        "\n",
        "y_train.shape"
      ]
    },
    {
      "cell_type": "code",
      "execution_count": 116,
      "metadata": {
        "id": "eqLhsil2IvYD",
        "outputId": "61a267cc-e286-43a8-bb7d-f426b1c1d7a7",
        "colab": {
          "base_uri": "https://localhost:8080/"
        }
      },
      "outputs": [
        {
          "output_type": "stream",
          "name": "stdout",
          "text": [
            "X_headlines-train: (5520, 151)\n",
            "X_headlines-test: (2000, 151)\n"
          ]
        }
      ],
      "source": [
        "\"\"\"\n",
        "Here we format our featurs:\n",
        "\n",
        "Since CountVectorizer has a paramenter for stopwords, we dont need to implement a method\n",
        "to identify them.\n",
        "\n",
        "\"\"\"\n",
        "def vectorize_data(column):\n",
        "    vect = CountVectorizer(min_df=0.01)\n",
        "    X_train = vect.fit_transform(train_df[column]).toarray()       #we use .toarray() to convert the matrix into a numpy array\n",
        "    X_test = vect.transform(test_df[column]).toarray()\n",
        "\n",
        "    return X_train, X_test\n",
        "\n",
        "X_headlines_train, X_headlines_test = vectorize_data('headlines')\n",
        "X_deascription_train, X_deascription_test = vectorize_data('description')\n",
        "X_content_train, X_content_test = vectorize_data('content')\n",
        "\n",
        "\n",
        "print('X_headlines-train:',X_headlines_train.shape)\n",
        "print('X_headlines-test:',X_headlines_test.shape)"
      ]
    },
    {
      "cell_type": "code",
      "source": [
        "# 6. Create a Random forest model:\n",
        "\n",
        "def fit_random_forest(X_train, y_train, X_test):\n",
        "\n",
        "  clf_model = RandomForestClassifier()\n",
        "  clf_model.fit(X_train, y_train)\n",
        "\n",
        "  tree = clf_model.estimators_[0]\n",
        "  dot_data = export_graphviz(tree,filled=True,rounded=True,class_names=y_train.unique(),special_characters=True)\n",
        "  graph = graphviz.Source(dot_data)\n",
        "  accuracy = clf_model.score(X_test, y_test)\n",
        "\n",
        "  return clf_model, graph, accuracy\n",
        "\n",
        "clf_model, clf_accuracy, clf_graph = fit_random_forest(X_headlines_train, y_train, X_headlines_test)\n",
        "print('Random Forest Accuracy:', clf_accuracy)\n",
        "\n"
      ],
      "metadata": {
        "id": "4gztVeYJQIoZ"
      },
      "execution_count": 117,
      "outputs": []
    },
    {
      "cell_type": "code",
      "execution_count": 123,
      "metadata": {
        "id": "vDL1Utd8IvYD",
        "outputId": "47093d58-dbb0-462e-f38a-ff2b9f765cf4",
        "colab": {
          "base_uri": "https://localhost:8080/",
          "height": 332
        }
      },
      "outputs": [
        {
          "output_type": "error",
          "ename": "UnboundLocalError",
          "evalue": "cannot access local variable 'y_test' where it is not associated with a value",
          "traceback": [
            "\u001b[0;31m---------------------------------------------------------------------------\u001b[0m",
            "\u001b[0;31mUnboundLocalError\u001b[0m                         Traceback (most recent call last)",
            "\u001b[0;32m<ipython-input-123-70901f4f8f83>\u001b[0m in \u001b[0;36m<cell line: 0>\u001b[0;34m()\u001b[0m\n\u001b[1;32m     26\u001b[0m   \u001b[0;32mreturn\u001b[0m \u001b[0mloss\u001b[0m\u001b[0;34m,\u001b[0m \u001b[0maccuracy\u001b[0m\u001b[0;34m\u001b[0m\u001b[0;34m\u001b[0m\u001b[0m\n\u001b[1;32m     27\u001b[0m \u001b[0;34m\u001b[0m\u001b[0m\n\u001b[0;32m---> 28\u001b[0;31m \u001b[0mloss\u001b[0m\u001b[0;34m,\u001b[0m \u001b[0maccuracy\u001b[0m \u001b[0;34m=\u001b[0m \u001b[0mfit_neural_network\u001b[0m\u001b[0;34m(\u001b[0m\u001b[0mX_headlines_train\u001b[0m\u001b[0;34m,\u001b[0m \u001b[0my_train\u001b[0m\u001b[0;34m,\u001b[0m \u001b[0mX_headlines_test\u001b[0m\u001b[0;34m)\u001b[0m\u001b[0;34m\u001b[0m\u001b[0;34m\u001b[0m\u001b[0m\n\u001b[0m\u001b[1;32m     29\u001b[0m \u001b[0;34m\u001b[0m\u001b[0m\n\u001b[1;32m     30\u001b[0m \u001b[0mprint\u001b[0m\u001b[0;34m(\u001b[0m\u001b[0;34m'Neural Network Accuracy:'\u001b[0m\u001b[0;34m,\u001b[0m \u001b[0maccuracy\u001b[0m\u001b[0;34m)\u001b[0m\u001b[0;34m\u001b[0m\u001b[0;34m\u001b[0m\u001b[0m\n",
            "\u001b[0;32m<ipython-input-123-70901f4f8f83>\u001b[0m in \u001b[0;36mfit_neural_network\u001b[0;34m(X_train, y_train, X_test)\u001b[0m\n\u001b[1;32m      4\u001b[0m   \u001b[0mlable_encoder\u001b[0m \u001b[0;34m=\u001b[0m \u001b[0mLabelEncoder\u001b[0m\u001b[0;34m(\u001b[0m\u001b[0;34m)\u001b[0m\u001b[0;34m\u001b[0m\u001b[0;34m\u001b[0m\u001b[0m\n\u001b[1;32m      5\u001b[0m   \u001b[0my_train\u001b[0m \u001b[0;34m=\u001b[0m \u001b[0mlable_encoder\u001b[0m\u001b[0;34m.\u001b[0m\u001b[0mfit_transform\u001b[0m\u001b[0;34m(\u001b[0m\u001b[0my_train\u001b[0m\u001b[0;34m)\u001b[0m\u001b[0;34m\u001b[0m\u001b[0;34m\u001b[0m\u001b[0m\n\u001b[0;32m----> 6\u001b[0;31m   \u001b[0my_test\u001b[0m \u001b[0;34m=\u001b[0m \u001b[0mlable_encoder\u001b[0m\u001b[0;34m.\u001b[0m\u001b[0mfit_transform\u001b[0m\u001b[0;34m(\u001b[0m\u001b[0my_test\u001b[0m\u001b[0;34m)\u001b[0m\u001b[0;34m\u001b[0m\u001b[0;34m\u001b[0m\u001b[0m\n\u001b[0m\u001b[1;32m      7\u001b[0m   \u001b[0mX_len\u001b[0m \u001b[0;34m=\u001b[0m \u001b[0mX_train\u001b[0m\u001b[0;34m.\u001b[0m\u001b[0mshape\u001b[0m\u001b[0;34m[\u001b[0m\u001b[0;36m1\u001b[0m\u001b[0;34m]\u001b[0m\u001b[0;34m\u001b[0m\u001b[0;34m\u001b[0m\u001b[0m\n\u001b[1;32m      8\u001b[0m \u001b[0;34m\u001b[0m\u001b[0m\n",
            "\u001b[0;31mUnboundLocalError\u001b[0m: cannot access local variable 'y_test' where it is not associated with a value"
          ]
        }
      ],
      "source": [
        "# Create a Neural Network model:\n",
        "def fit_neural_network(X_train, y_train, X_test):\n",
        "\n",
        "  lable_encoder = LabelEncoder()\n",
        "  X_train = lable_encoder.fit_transform(X_)\n",
        "  y_train = lable_encoder.fit_transform(y_test)\n",
        "  X_len = X_train.shape[1]\n",
        "\n",
        "\n",
        "  model = Sequential([\n",
        "      Dense(X_len, activation='relu', input_shape=(len(y_train),)),\n",
        "      Dense(X_len*2, activation='relu'),\n",
        "      Dense(y_train.nunique(), activation='softmax')\n",
        "  ])\n",
        "\n",
        "  model.compile(\n",
        "      optimizer='adam',\n",
        "      loss='categorical_crossentropy',\n",
        "      metrics=['accuracy'],\n",
        "      )\n",
        "\n",
        "  prediction = model.fit(X_train ,y_train)\n",
        "\n",
        "  loss, accuracy = model.evaluate(X_headlines_test, y_test)\n",
        "\n",
        "  return loss, accuracy\n",
        "\n",
        "loss, accuracy = fit_neural_network(X_headlines_train, y_train, X_headlines_test)\n",
        "\n",
        "print('Neural Network Accuracy:', accuracy)"
      ]
    }
  ],
  "metadata": {
    "kernelspec": {
      "display_name": "news_category_classifier",
      "language": "python",
      "name": "python3"
    },
    "language_info": {
      "codemirror_mode": {
        "name": "ipython",
        "version": 3
      },
      "file_extension": ".py",
      "mimetype": "text/x-python",
      "name": "python",
      "nbconvert_exporter": "python",
      "pygments_lexer": "ipython3",
      "version": "3.12.3"
    },
    "colab": {
      "provenance": []
    }
  },
  "nbformat": 4,
  "nbformat_minor": 0
}